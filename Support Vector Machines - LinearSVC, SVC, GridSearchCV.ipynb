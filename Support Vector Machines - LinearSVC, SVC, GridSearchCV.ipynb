{
 "cells": [
  {
   "cell_type": "code",
   "execution_count": 1,
   "id": "ee9419fb",
   "metadata": {
    "_cell_guid": "b1076dfc-b9ad-4769-8c92-a6c4dae69d19",
    "_uuid": "8f2839f25d086af736a60e9eeb907d3b93b6e0e5",
    "execution": {
     "iopub.execute_input": "2022-01-09T16:05:18.671243Z",
     "iopub.status.busy": "2022-01-09T16:05:18.666320Z",
     "iopub.status.idle": "2022-01-09T16:05:18.687680Z",
     "shell.execute_reply": "2022-01-09T16:05:18.688360Z",
     "shell.execute_reply.started": "2022-01-09T15:54:29.312205Z"
    },
    "papermill": {
     "duration": 0.064822,
     "end_time": "2022-01-09T16:05:18.688682",
     "exception": false,
     "start_time": "2022-01-09T16:05:18.623860",
     "status": "completed"
    },
    "tags": []
   },
   "outputs": [
    {
     "name": "stdout",
     "output_type": "stream",
     "text": [
      "/kaggle/input/svm-classification/UniversalBank.csv\n",
      "/kaggle/input/svm-classification/Activity Sheet.docx\n",
      "/kaggle/input/svm-classification/SVM_Classification.R\n"
     ]
    }
   ],
   "source": [
    "# This Python 3 environment comes with many helpful analytics libraries installed\n",
    "# It is defined by the kaggle/python Docker image: https://github.com/kaggle/docker-python\n",
    "# For example, here's several helpful packages to load\n",
    "\n",
    "import numpy as np # linear algebra\n",
    "import pandas as pd # data processing, CSV file I/O (e.g. pd.read_csv)\n",
    "\n",
    "# Input data files are available in the read-only \"../input/\" directory\n",
    "# For example, running this (by clicking run or pressing Shift+Enter) will list all files under the input directory\n",
    "\n",
    "import os\n",
    "for dirname, _, filenames in os.walk('/kaggle/input'):\n",
    "    for filename in filenames:\n",
    "        print(os.path.join(dirname, filename))\n",
    "\n",
    "# You can write up to 20GB to the current directory (/kaggle/working/) that gets preserved as output when you create a version using \"Save & Run All\" \n",
    "# You can also write temporary files to /kaggle/temp/, but they won't be saved outside of the current session"
   ]
  },
  {
   "cell_type": "markdown",
   "id": "74b731a6",
   "metadata": {
    "papermill": {
     "duration": 0.036409,
     "end_time": "2022-01-09T16:05:18.762732",
     "exception": false,
     "start_time": "2022-01-09T16:05:18.726323",
     "status": "completed"
    },
    "tags": []
   },
   "source": [
    "# Imports"
   ]
  },
  {
   "cell_type": "code",
   "execution_count": 2,
   "id": "7c82fc2b",
   "metadata": {
    "execution": {
     "iopub.execute_input": "2022-01-09T16:05:18.842154Z",
     "iopub.status.busy": "2022-01-09T16:05:18.838563Z",
     "iopub.status.idle": "2022-01-09T16:05:20.200769Z",
     "shell.execute_reply": "2022-01-09T16:05:20.200108Z",
     "shell.execute_reply.started": "2022-01-09T15:54:29.330088Z"
    },
    "papermill": {
     "duration": 1.401808,
     "end_time": "2022-01-09T16:05:20.200920",
     "exception": false,
     "start_time": "2022-01-09T16:05:18.799112",
     "status": "completed"
    },
    "tags": []
   },
   "outputs": [],
   "source": [
    "import numpy as np\n",
    "import pandas as pd\n",
    "import matplotlib.pyplot as plt\n",
    "import seaborn as sns\n",
    "sns.set()\n",
    "\n",
    "from sklearn.preprocessing import StandardScaler\n",
    "from sklearn.model_selection import train_test_split\n",
    "from sklearn.svm import LinearSVC, SVC\n",
    "from sklearn.metrics import accuracy_score\n",
    "from sklearn.model_selection import GridSearchCV"
   ]
  },
  {
   "cell_type": "markdown",
   "id": "8e75b5ca",
   "metadata": {
    "papermill": {
     "duration": 0.037744,
     "end_time": "2022-01-09T16:05:20.278561",
     "exception": false,
     "start_time": "2022-01-09T16:05:20.240817",
     "status": "completed"
    },
    "tags": []
   },
   "source": [
    "# Importing Data"
   ]
  },
  {
   "cell_type": "code",
   "execution_count": 3,
   "id": "0321d99c",
   "metadata": {
    "execution": {
     "iopub.execute_input": "2022-01-09T16:05:20.356777Z",
     "iopub.status.busy": "2022-01-09T16:05:20.356098Z",
     "iopub.status.idle": "2022-01-09T16:05:20.385118Z",
     "shell.execute_reply": "2022-01-09T16:05:20.385751Z",
     "shell.execute_reply.started": "2022-01-09T15:54:30.592260Z"
    },
    "papermill": {
     "duration": 0.070658,
     "end_time": "2022-01-09T16:05:20.385946",
     "exception": false,
     "start_time": "2022-01-09T16:05:20.315288",
     "status": "completed"
    },
    "tags": []
   },
   "outputs": [],
   "source": [
    "data = pd.read_csv('../input/svm-classification/UniversalBank.csv')"
   ]
  },
  {
   "cell_type": "code",
   "execution_count": 4,
   "id": "b04236a7",
   "metadata": {
    "execution": {
     "iopub.execute_input": "2022-01-09T16:05:20.465902Z",
     "iopub.status.busy": "2022-01-09T16:05:20.464914Z",
     "iopub.status.idle": "2022-01-09T16:05:20.472282Z",
     "shell.execute_reply": "2022-01-09T16:05:20.472931Z",
     "shell.execute_reply.started": "2022-01-09T15:54:30.630071Z"
    },
    "papermill": {
     "duration": 0.049175,
     "end_time": "2022-01-09T16:05:20.473118",
     "exception": false,
     "start_time": "2022-01-09T16:05:20.423943",
     "status": "completed"
    },
    "tags": []
   },
   "outputs": [
    {
     "data": {
      "text/plain": [
       "(5000, 14)"
      ]
     },
     "execution_count": 4,
     "metadata": {},
     "output_type": "execute_result"
    }
   ],
   "source": [
    "data.shape"
   ]
  },
  {
   "cell_type": "code",
   "execution_count": 5,
   "id": "233c02b0",
   "metadata": {
    "execution": {
     "iopub.execute_input": "2022-01-09T16:05:20.559636Z",
     "iopub.status.busy": "2022-01-09T16:05:20.558634Z",
     "iopub.status.idle": "2022-01-09T16:05:20.576282Z",
     "shell.execute_reply": "2022-01-09T16:05:20.575712Z",
     "shell.execute_reply.started": "2022-01-09T15:54:30.639267Z"
    },
    "papermill": {
     "duration": 0.062911,
     "end_time": "2022-01-09T16:05:20.576429",
     "exception": false,
     "start_time": "2022-01-09T16:05:20.513518",
     "status": "completed"
    },
    "tags": []
   },
   "outputs": [
    {
     "data": {
      "text/html": [
       "<div>\n",
       "<style scoped>\n",
       "    .dataframe tbody tr th:only-of-type {\n",
       "        vertical-align: middle;\n",
       "    }\n",
       "\n",
       "    .dataframe tbody tr th {\n",
       "        vertical-align: top;\n",
       "    }\n",
       "\n",
       "    .dataframe thead th {\n",
       "        text-align: right;\n",
       "    }\n",
       "</style>\n",
       "<table border=\"1\" class=\"dataframe\">\n",
       "  <thead>\n",
       "    <tr style=\"text-align: right;\">\n",
       "      <th></th>\n",
       "      <th>ID</th>\n",
       "      <th>Age</th>\n",
       "      <th>Experience</th>\n",
       "      <th>Income</th>\n",
       "      <th>ZIP Code</th>\n",
       "      <th>Family</th>\n",
       "      <th>CCAvg</th>\n",
       "      <th>Education</th>\n",
       "      <th>Mortgage</th>\n",
       "      <th>Personal Loan</th>\n",
       "      <th>Securities Account</th>\n",
       "      <th>CD Account</th>\n",
       "      <th>Online</th>\n",
       "      <th>CreditCard</th>\n",
       "    </tr>\n",
       "  </thead>\n",
       "  <tbody>\n",
       "    <tr>\n",
       "      <th>0</th>\n",
       "      <td>1</td>\n",
       "      <td>25</td>\n",
       "      <td>1</td>\n",
       "      <td>49</td>\n",
       "      <td>91107</td>\n",
       "      <td>4</td>\n",
       "      <td>1.6</td>\n",
       "      <td>1</td>\n",
       "      <td>0</td>\n",
       "      <td>0</td>\n",
       "      <td>1</td>\n",
       "      <td>0</td>\n",
       "      <td>0</td>\n",
       "      <td>0</td>\n",
       "    </tr>\n",
       "    <tr>\n",
       "      <th>1</th>\n",
       "      <td>2</td>\n",
       "      <td>45</td>\n",
       "      <td>19</td>\n",
       "      <td>34</td>\n",
       "      <td>90089</td>\n",
       "      <td>3</td>\n",
       "      <td>1.5</td>\n",
       "      <td>1</td>\n",
       "      <td>0</td>\n",
       "      <td>0</td>\n",
       "      <td>1</td>\n",
       "      <td>0</td>\n",
       "      <td>0</td>\n",
       "      <td>0</td>\n",
       "    </tr>\n",
       "    <tr>\n",
       "      <th>2</th>\n",
       "      <td>3</td>\n",
       "      <td>39</td>\n",
       "      <td>15</td>\n",
       "      <td>11</td>\n",
       "      <td>94720</td>\n",
       "      <td>1</td>\n",
       "      <td>1.0</td>\n",
       "      <td>1</td>\n",
       "      <td>0</td>\n",
       "      <td>0</td>\n",
       "      <td>0</td>\n",
       "      <td>0</td>\n",
       "      <td>0</td>\n",
       "      <td>0</td>\n",
       "    </tr>\n",
       "    <tr>\n",
       "      <th>3</th>\n",
       "      <td>4</td>\n",
       "      <td>35</td>\n",
       "      <td>9</td>\n",
       "      <td>100</td>\n",
       "      <td>94112</td>\n",
       "      <td>1</td>\n",
       "      <td>2.7</td>\n",
       "      <td>2</td>\n",
       "      <td>0</td>\n",
       "      <td>0</td>\n",
       "      <td>0</td>\n",
       "      <td>0</td>\n",
       "      <td>0</td>\n",
       "      <td>0</td>\n",
       "    </tr>\n",
       "    <tr>\n",
       "      <th>4</th>\n",
       "      <td>5</td>\n",
       "      <td>35</td>\n",
       "      <td>8</td>\n",
       "      <td>45</td>\n",
       "      <td>91330</td>\n",
       "      <td>4</td>\n",
       "      <td>1.0</td>\n",
       "      <td>2</td>\n",
       "      <td>0</td>\n",
       "      <td>0</td>\n",
       "      <td>0</td>\n",
       "      <td>0</td>\n",
       "      <td>0</td>\n",
       "      <td>1</td>\n",
       "    </tr>\n",
       "  </tbody>\n",
       "</table>\n",
       "</div>"
      ],
      "text/plain": [
       "   ID  Age  Experience  Income  ZIP Code  Family  CCAvg  Education  Mortgage  \\\n",
       "0   1   25           1      49     91107       4    1.6          1         0   \n",
       "1   2   45          19      34     90089       3    1.5          1         0   \n",
       "2   3   39          15      11     94720       1    1.0          1         0   \n",
       "3   4   35           9     100     94112       1    2.7          2         0   \n",
       "4   5   35           8      45     91330       4    1.0          2         0   \n",
       "\n",
       "   Personal Loan  Securities Account  CD Account  Online  CreditCard  \n",
       "0              0                   1           0       0           0  \n",
       "1              0                   1           0       0           0  \n",
       "2              0                   0           0       0           0  \n",
       "3              0                   0           0       0           0  \n",
       "4              0                   0           0       0           1  "
      ]
     },
     "execution_count": 5,
     "metadata": {},
     "output_type": "execute_result"
    }
   ],
   "source": [
    "data.head()"
   ]
  },
  {
   "cell_type": "code",
   "execution_count": 6,
   "id": "caf02a7f",
   "metadata": {
    "execution": {
     "iopub.execute_input": "2022-01-09T16:05:20.654426Z",
     "iopub.status.busy": "2022-01-09T16:05:20.653484Z",
     "iopub.status.idle": "2022-01-09T16:05:20.715031Z",
     "shell.execute_reply": "2022-01-09T16:05:20.715587Z",
     "shell.execute_reply.started": "2022-01-09T15:54:30.672397Z"
    },
    "papermill": {
     "duration": 0.102011,
     "end_time": "2022-01-09T16:05:20.715767",
     "exception": false,
     "start_time": "2022-01-09T16:05:20.613756",
     "status": "completed"
    },
    "tags": []
   },
   "outputs": [
    {
     "data": {
      "text/html": [
       "<div>\n",
       "<style scoped>\n",
       "    .dataframe tbody tr th:only-of-type {\n",
       "        vertical-align: middle;\n",
       "    }\n",
       "\n",
       "    .dataframe tbody tr th {\n",
       "        vertical-align: top;\n",
       "    }\n",
       "\n",
       "    .dataframe thead th {\n",
       "        text-align: right;\n",
       "    }\n",
       "</style>\n",
       "<table border=\"1\" class=\"dataframe\">\n",
       "  <thead>\n",
       "    <tr style=\"text-align: right;\">\n",
       "      <th></th>\n",
       "      <th>ID</th>\n",
       "      <th>Age</th>\n",
       "      <th>Experience</th>\n",
       "      <th>Income</th>\n",
       "      <th>ZIP Code</th>\n",
       "      <th>Family</th>\n",
       "      <th>CCAvg</th>\n",
       "      <th>Education</th>\n",
       "      <th>Mortgage</th>\n",
       "      <th>Personal Loan</th>\n",
       "      <th>Securities Account</th>\n",
       "      <th>CD Account</th>\n",
       "      <th>Online</th>\n",
       "      <th>CreditCard</th>\n",
       "    </tr>\n",
       "  </thead>\n",
       "  <tbody>\n",
       "    <tr>\n",
       "      <th>count</th>\n",
       "      <td>5000.000000</td>\n",
       "      <td>5000.000000</td>\n",
       "      <td>5000.000000</td>\n",
       "      <td>5000.000000</td>\n",
       "      <td>5000.000000</td>\n",
       "      <td>5000.000000</td>\n",
       "      <td>5000.000000</td>\n",
       "      <td>5000.000000</td>\n",
       "      <td>5000.000000</td>\n",
       "      <td>5000.000000</td>\n",
       "      <td>5000.000000</td>\n",
       "      <td>5000.00000</td>\n",
       "      <td>5000.000000</td>\n",
       "      <td>5000.000000</td>\n",
       "    </tr>\n",
       "    <tr>\n",
       "      <th>mean</th>\n",
       "      <td>2500.500000</td>\n",
       "      <td>45.338400</td>\n",
       "      <td>20.104600</td>\n",
       "      <td>73.774200</td>\n",
       "      <td>93152.503000</td>\n",
       "      <td>2.396400</td>\n",
       "      <td>1.937938</td>\n",
       "      <td>1.881000</td>\n",
       "      <td>56.498800</td>\n",
       "      <td>0.096000</td>\n",
       "      <td>0.104400</td>\n",
       "      <td>0.06040</td>\n",
       "      <td>0.596800</td>\n",
       "      <td>0.294000</td>\n",
       "    </tr>\n",
       "    <tr>\n",
       "      <th>std</th>\n",
       "      <td>1443.520003</td>\n",
       "      <td>11.463166</td>\n",
       "      <td>11.467954</td>\n",
       "      <td>46.033729</td>\n",
       "      <td>2121.852197</td>\n",
       "      <td>1.147663</td>\n",
       "      <td>1.747659</td>\n",
       "      <td>0.839869</td>\n",
       "      <td>101.713802</td>\n",
       "      <td>0.294621</td>\n",
       "      <td>0.305809</td>\n",
       "      <td>0.23825</td>\n",
       "      <td>0.490589</td>\n",
       "      <td>0.455637</td>\n",
       "    </tr>\n",
       "    <tr>\n",
       "      <th>min</th>\n",
       "      <td>1.000000</td>\n",
       "      <td>23.000000</td>\n",
       "      <td>-3.000000</td>\n",
       "      <td>8.000000</td>\n",
       "      <td>9307.000000</td>\n",
       "      <td>1.000000</td>\n",
       "      <td>0.000000</td>\n",
       "      <td>1.000000</td>\n",
       "      <td>0.000000</td>\n",
       "      <td>0.000000</td>\n",
       "      <td>0.000000</td>\n",
       "      <td>0.00000</td>\n",
       "      <td>0.000000</td>\n",
       "      <td>0.000000</td>\n",
       "    </tr>\n",
       "    <tr>\n",
       "      <th>25%</th>\n",
       "      <td>1250.750000</td>\n",
       "      <td>35.000000</td>\n",
       "      <td>10.000000</td>\n",
       "      <td>39.000000</td>\n",
       "      <td>91911.000000</td>\n",
       "      <td>1.000000</td>\n",
       "      <td>0.700000</td>\n",
       "      <td>1.000000</td>\n",
       "      <td>0.000000</td>\n",
       "      <td>0.000000</td>\n",
       "      <td>0.000000</td>\n",
       "      <td>0.00000</td>\n",
       "      <td>0.000000</td>\n",
       "      <td>0.000000</td>\n",
       "    </tr>\n",
       "    <tr>\n",
       "      <th>50%</th>\n",
       "      <td>2500.500000</td>\n",
       "      <td>45.000000</td>\n",
       "      <td>20.000000</td>\n",
       "      <td>64.000000</td>\n",
       "      <td>93437.000000</td>\n",
       "      <td>2.000000</td>\n",
       "      <td>1.500000</td>\n",
       "      <td>2.000000</td>\n",
       "      <td>0.000000</td>\n",
       "      <td>0.000000</td>\n",
       "      <td>0.000000</td>\n",
       "      <td>0.00000</td>\n",
       "      <td>1.000000</td>\n",
       "      <td>0.000000</td>\n",
       "    </tr>\n",
       "    <tr>\n",
       "      <th>75%</th>\n",
       "      <td>3750.250000</td>\n",
       "      <td>55.000000</td>\n",
       "      <td>30.000000</td>\n",
       "      <td>98.000000</td>\n",
       "      <td>94608.000000</td>\n",
       "      <td>3.000000</td>\n",
       "      <td>2.500000</td>\n",
       "      <td>3.000000</td>\n",
       "      <td>101.000000</td>\n",
       "      <td>0.000000</td>\n",
       "      <td>0.000000</td>\n",
       "      <td>0.00000</td>\n",
       "      <td>1.000000</td>\n",
       "      <td>1.000000</td>\n",
       "    </tr>\n",
       "    <tr>\n",
       "      <th>max</th>\n",
       "      <td>5000.000000</td>\n",
       "      <td>67.000000</td>\n",
       "      <td>43.000000</td>\n",
       "      <td>224.000000</td>\n",
       "      <td>96651.000000</td>\n",
       "      <td>4.000000</td>\n",
       "      <td>10.000000</td>\n",
       "      <td>3.000000</td>\n",
       "      <td>635.000000</td>\n",
       "      <td>1.000000</td>\n",
       "      <td>1.000000</td>\n",
       "      <td>1.00000</td>\n",
       "      <td>1.000000</td>\n",
       "      <td>1.000000</td>\n",
       "    </tr>\n",
       "  </tbody>\n",
       "</table>\n",
       "</div>"
      ],
      "text/plain": [
       "                ID          Age   Experience       Income      ZIP Code  \\\n",
       "count  5000.000000  5000.000000  5000.000000  5000.000000   5000.000000   \n",
       "mean   2500.500000    45.338400    20.104600    73.774200  93152.503000   \n",
       "std    1443.520003    11.463166    11.467954    46.033729   2121.852197   \n",
       "min       1.000000    23.000000    -3.000000     8.000000   9307.000000   \n",
       "25%    1250.750000    35.000000    10.000000    39.000000  91911.000000   \n",
       "50%    2500.500000    45.000000    20.000000    64.000000  93437.000000   \n",
       "75%    3750.250000    55.000000    30.000000    98.000000  94608.000000   \n",
       "max    5000.000000    67.000000    43.000000   224.000000  96651.000000   \n",
       "\n",
       "            Family        CCAvg    Education     Mortgage  Personal Loan  \\\n",
       "count  5000.000000  5000.000000  5000.000000  5000.000000    5000.000000   \n",
       "mean      2.396400     1.937938     1.881000    56.498800       0.096000   \n",
       "std       1.147663     1.747659     0.839869   101.713802       0.294621   \n",
       "min       1.000000     0.000000     1.000000     0.000000       0.000000   \n",
       "25%       1.000000     0.700000     1.000000     0.000000       0.000000   \n",
       "50%       2.000000     1.500000     2.000000     0.000000       0.000000   \n",
       "75%       3.000000     2.500000     3.000000   101.000000       0.000000   \n",
       "max       4.000000    10.000000     3.000000   635.000000       1.000000   \n",
       "\n",
       "       Securities Account  CD Account       Online   CreditCard  \n",
       "count         5000.000000  5000.00000  5000.000000  5000.000000  \n",
       "mean             0.104400     0.06040     0.596800     0.294000  \n",
       "std              0.305809     0.23825     0.490589     0.455637  \n",
       "min              0.000000     0.00000     0.000000     0.000000  \n",
       "25%              0.000000     0.00000     0.000000     0.000000  \n",
       "50%              0.000000     0.00000     1.000000     0.000000  \n",
       "75%              0.000000     0.00000     1.000000     1.000000  \n",
       "max              1.000000     1.00000     1.000000     1.000000  "
      ]
     },
     "execution_count": 6,
     "metadata": {},
     "output_type": "execute_result"
    }
   ],
   "source": [
    "data.describe()"
   ]
  },
  {
   "cell_type": "code",
   "execution_count": 7,
   "id": "e754de28",
   "metadata": {
    "execution": {
     "iopub.execute_input": "2022-01-09T16:05:20.798756Z",
     "iopub.status.busy": "2022-01-09T16:05:20.796601Z",
     "iopub.status.idle": "2022-01-09T16:05:20.813622Z",
     "shell.execute_reply": "2022-01-09T16:05:20.812640Z",
     "shell.execute_reply.started": "2022-01-09T15:54:30.739287Z"
    },
    "papermill": {
     "duration": 0.058732,
     "end_time": "2022-01-09T16:05:20.813778",
     "exception": false,
     "start_time": "2022-01-09T16:05:20.755046",
     "status": "completed"
    },
    "tags": []
   },
   "outputs": [
    {
     "name": "stdout",
     "output_type": "stream",
     "text": [
      "<class 'pandas.core.frame.DataFrame'>\n",
      "RangeIndex: 5000 entries, 0 to 4999\n",
      "Data columns (total 14 columns):\n",
      " #   Column              Non-Null Count  Dtype  \n",
      "---  ------              --------------  -----  \n",
      " 0   ID                  5000 non-null   int64  \n",
      " 1   Age                 5000 non-null   int64  \n",
      " 2   Experience          5000 non-null   int64  \n",
      " 3   Income              5000 non-null   int64  \n",
      " 4   ZIP Code            5000 non-null   int64  \n",
      " 5   Family              5000 non-null   int64  \n",
      " 6   CCAvg               5000 non-null   float64\n",
      " 7   Education           5000 non-null   int64  \n",
      " 8   Mortgage            5000 non-null   int64  \n",
      " 9   Personal Loan       5000 non-null   int64  \n",
      " 10  Securities Account  5000 non-null   int64  \n",
      " 11  CD Account          5000 non-null   int64  \n",
      " 12  Online              5000 non-null   int64  \n",
      " 13  CreditCard          5000 non-null   int64  \n",
      "dtypes: float64(1), int64(13)\n",
      "memory usage: 547.0 KB\n"
     ]
    }
   ],
   "source": [
    "data.info()"
   ]
  },
  {
   "cell_type": "code",
   "execution_count": 8,
   "id": "e8c9e126",
   "metadata": {
    "execution": {
     "iopub.execute_input": "2022-01-09T16:05:20.893599Z",
     "iopub.status.busy": "2022-01-09T16:05:20.892984Z",
     "iopub.status.idle": "2022-01-09T16:05:20.901090Z",
     "shell.execute_reply": "2022-01-09T16:05:20.901705Z",
     "shell.execute_reply.started": "2022-01-09T15:54:30.759583Z"
    },
    "papermill": {
     "duration": 0.049542,
     "end_time": "2022-01-09T16:05:20.901875",
     "exception": false,
     "start_time": "2022-01-09T16:05:20.852333",
     "status": "completed"
    },
    "tags": []
   },
   "outputs": [
    {
     "data": {
      "text/plain": [
       "ID                    0\n",
       "Age                   0\n",
       "Experience            0\n",
       "Income                0\n",
       "ZIP Code              0\n",
       "Family                0\n",
       "CCAvg                 0\n",
       "Education             0\n",
       "Mortgage              0\n",
       "Personal Loan         0\n",
       "Securities Account    0\n",
       "CD Account            0\n",
       "Online                0\n",
       "CreditCard            0\n",
       "dtype: int64"
      ]
     },
     "execution_count": 8,
     "metadata": {},
     "output_type": "execute_result"
    }
   ],
   "source": [
    "data.isnull().sum()"
   ]
  },
  {
   "cell_type": "code",
   "execution_count": 9,
   "id": "e76df63d",
   "metadata": {
    "execution": {
     "iopub.execute_input": "2022-01-09T16:05:20.983251Z",
     "iopub.status.busy": "2022-01-09T16:05:20.982591Z",
     "iopub.status.idle": "2022-01-09T16:05:20.990622Z",
     "shell.execute_reply": "2022-01-09T16:05:20.991146Z",
     "shell.execute_reply.started": "2022-01-09T15:54:30.771006Z"
    },
    "papermill": {
     "duration": 0.050924,
     "end_time": "2022-01-09T16:05:20.991326",
     "exception": false,
     "start_time": "2022-01-09T16:05:20.940402",
     "status": "completed"
    },
    "tags": []
   },
   "outputs": [
    {
     "name": "stdout",
     "output_type": "stream",
     "text": [
      "Shape of X is (5000, 13)\n",
      "Shape of y is (5000,)\n"
     ]
    }
   ],
   "source": [
    "X = data.drop('Personal Loan', axis = 1)\n",
    "y = data['Personal Loan']\n",
    "print(\"Shape of X is\", X.shape)\n",
    "print(\"Shape of y is\", y.shape)"
   ]
  },
  {
   "cell_type": "markdown",
   "id": "efe147f3",
   "metadata": {
    "papermill": {
     "duration": 0.038596,
     "end_time": "2022-01-09T16:05:21.068963",
     "exception": false,
     "start_time": "2022-01-09T16:05:21.030367",
     "status": "completed"
    },
    "tags": []
   },
   "source": [
    "# Preprocessing"
   ]
  },
  {
   "cell_type": "code",
   "execution_count": 10,
   "id": "d0db17e9",
   "metadata": {
    "execution": {
     "iopub.execute_input": "2022-01-09T16:05:21.153026Z",
     "iopub.status.busy": "2022-01-09T16:05:21.152349Z",
     "iopub.status.idle": "2022-01-09T16:05:21.154678Z",
     "shell.execute_reply": "2022-01-09T16:05:21.155250Z",
     "shell.execute_reply.started": "2022-01-09T15:54:30.783606Z"
    },
    "papermill": {
     "duration": 0.047344,
     "end_time": "2022-01-09T16:05:21.155417",
     "exception": false,
     "start_time": "2022-01-09T16:05:21.108073",
     "status": "completed"
    },
    "tags": []
   },
   "outputs": [],
   "source": [
    "X = X.drop('ID', axis = 1)"
   ]
  },
  {
   "cell_type": "code",
   "execution_count": 11,
   "id": "cf25bc50",
   "metadata": {
    "execution": {
     "iopub.execute_input": "2022-01-09T16:05:21.236300Z",
     "iopub.status.busy": "2022-01-09T16:05:21.235682Z",
     "iopub.status.idle": "2022-01-09T16:05:21.241060Z",
     "shell.execute_reply": "2022-01-09T16:05:21.241666Z",
     "shell.execute_reply.started": "2022-01-09T15:54:30.792540Z"
    },
    "papermill": {
     "duration": 0.047476,
     "end_time": "2022-01-09T16:05:21.241832",
     "exception": false,
     "start_time": "2022-01-09T16:05:21.194356",
     "status": "completed"
    },
    "tags": []
   },
   "outputs": [
    {
     "data": {
      "text/plain": [
       "467"
      ]
     },
     "execution_count": 11,
     "metadata": {},
     "output_type": "execute_result"
    }
   ],
   "source": [
    "X['ZIP Code'].nunique()"
   ]
  },
  {
   "cell_type": "markdown",
   "id": "aab6572c",
   "metadata": {
    "papermill": {
     "duration": 0.038812,
     "end_time": "2022-01-09T16:05:21.320094",
     "exception": false,
     "start_time": "2022-01-09T16:05:21.281282",
     "status": "completed"
    },
    "tags": []
   },
   "source": [
    "No use in keeping Zip Code with 467 unique values. We need to drop it"
   ]
  },
  {
   "cell_type": "code",
   "execution_count": 12,
   "id": "3a5c845d",
   "metadata": {
    "execution": {
     "iopub.execute_input": "2022-01-09T16:05:21.402753Z",
     "iopub.status.busy": "2022-01-09T16:05:21.402058Z",
     "iopub.status.idle": "2022-01-09T16:05:21.406341Z",
     "shell.execute_reply": "2022-01-09T16:05:21.406938Z",
     "shell.execute_reply.started": "2022-01-09T15:54:30.807980Z"
    },
    "papermill": {
     "duration": 0.047267,
     "end_time": "2022-01-09T16:05:21.407103",
     "exception": false,
     "start_time": "2022-01-09T16:05:21.359836",
     "status": "completed"
    },
    "tags": []
   },
   "outputs": [],
   "source": [
    "X = X.drop('ZIP Code', axis = 1)"
   ]
  },
  {
   "cell_type": "code",
   "execution_count": 13,
   "id": "b490c596",
   "metadata": {
    "execution": {
     "iopub.execute_input": "2022-01-09T16:05:21.492097Z",
     "iopub.status.busy": "2022-01-09T16:05:21.490078Z",
     "iopub.status.idle": "2022-01-09T16:05:21.495765Z",
     "shell.execute_reply": "2022-01-09T16:05:21.495029Z",
     "shell.execute_reply.started": "2022-01-09T15:54:30.818143Z"
    },
    "papermill": {
     "duration": 0.048369,
     "end_time": "2022-01-09T16:05:21.495920",
     "exception": false,
     "start_time": "2022-01-09T16:05:21.447551",
     "status": "completed"
    },
    "tags": []
   },
   "outputs": [
    {
     "data": {
      "text/plain": [
       "(5000, 11)"
      ]
     },
     "execution_count": 13,
     "metadata": {},
     "output_type": "execute_result"
    }
   ],
   "source": [
    "X.shape"
   ]
  },
  {
   "cell_type": "code",
   "execution_count": 14,
   "id": "6b537bbf",
   "metadata": {
    "execution": {
     "iopub.execute_input": "2022-01-09T16:05:21.578759Z",
     "iopub.status.busy": "2022-01-09T16:05:21.578110Z",
     "iopub.status.idle": "2022-01-09T16:05:22.752365Z",
     "shell.execute_reply": "2022-01-09T16:05:22.752868Z",
     "shell.execute_reply.started": "2022-01-09T15:54:30.835115Z"
    },
    "papermill": {
     "duration": 1.217231,
     "end_time": "2022-01-09T16:05:22.753066",
     "exception": false,
     "start_time": "2022-01-09T16:05:21.535835",
     "status": "completed"
    },
    "tags": []
   },
   "outputs": [
    {
     "data": {
      "image/png": "[encoded data removed]",
      "text/plain": [
       "<Figure size 720x720 with 2 Axes>"
      ]
     },
     "metadata": {},
     "output_type": "display_data"
    }
   ],
   "source": [
    "plt.figure(figsize=(10,10))\n",
    "sns.heatmap(data.corr(), cmap = 'Blues', annot = True, fmt = '.2f')\n",
    "plt.show()"
   ]
  },
  {
   "cell_type": "markdown",
   "id": "f88673b4",
   "metadata": {
    "papermill": {
     "duration": 0.043977,
     "end_time": "2022-01-09T16:05:22.840295",
     "exception": false,
     "start_time": "2022-01-09T16:05:22.796318",
     "status": "completed"
    },
    "tags": []
   },
   "source": [
    "* CD Account, Mortgage, Education, CCAvg, Income - Important Classifiers\n",
    "* Age and Experience are almost the same, can remove 1 "
   ]
  },
  {
   "cell_type": "code",
   "execution_count": 15,
   "id": "09782228",
   "metadata": {
    "execution": {
     "iopub.execute_input": "2022-01-09T16:05:22.929965Z",
     "iopub.status.busy": "2022-01-09T16:05:22.929290Z",
     "iopub.status.idle": "2022-01-09T16:05:22.934172Z",
     "shell.execute_reply": "2022-01-09T16:05:22.934744Z",
     "shell.execute_reply.started": "2022-01-09T15:54:32.010119Z"
    },
    "papermill": {
     "duration": 0.051501,
     "end_time": "2022-01-09T16:05:22.934925",
     "exception": false,
     "start_time": "2022-01-09T16:05:22.883424",
     "status": "completed"
    },
    "tags": []
   },
   "outputs": [],
   "source": [
    "X = X.drop('Experience', axis = 1)"
   ]
  },
  {
   "cell_type": "markdown",
   "id": "2a3f9dfc",
   "metadata": {
    "papermill": {
     "duration": 0.042997,
     "end_time": "2022-01-09T16:05:23.021172",
     "exception": false,
     "start_time": "2022-01-09T16:05:22.978175",
     "status": "completed"
    },
    "tags": []
   },
   "source": [
    "# Visualization"
   ]
  },
  {
   "cell_type": "code",
   "execution_count": 16,
   "id": "417cd22b",
   "metadata": {
    "execution": {
     "iopub.execute_input": "2022-01-09T16:05:23.111026Z",
     "iopub.status.busy": "2022-01-09T16:05:23.110044Z",
     "iopub.status.idle": "2022-01-09T16:05:24.943999Z",
     "shell.execute_reply": "2022-01-09T16:05:24.943396Z",
     "shell.execute_reply.started": "2022-01-09T15:54:32.018163Z"
    },
    "papermill": {
     "duration": 1.880259,
     "end_time": "2022-01-09T16:05:24.944159",
     "exception": false,
     "start_time": "2022-01-09T16:05:23.063900",
     "status": "completed"
    },
    "tags": []
   },
   "outputs": [
    {
     "data": {
      "image/png": "[encoded data removed]",
      "text/plain": [
       "<Figure size 864x864 with 12 Axes>"
      ]
     },
     "metadata": {},
     "output_type": "display_data"
    }
   ],
   "source": [
    "# plt.figure(figsize=(12,12))\n",
    "X.hist(figsize=(12,12))\n",
    "plt.show()"
   ]
  },
  {
   "cell_type": "markdown",
   "id": "027ac6e9",
   "metadata": {
    "papermill": {
     "duration": 0.04492,
     "end_time": "2022-01-09T16:05:25.032982",
     "exception": false,
     "start_time": "2022-01-09T16:05:24.988062",
     "status": "completed"
    },
    "tags": []
   },
   "source": [
    "# Splitting Test and Train data"
   ]
  },
  {
   "cell_type": "code",
   "execution_count": 17,
   "id": "66898f01",
   "metadata": {
    "execution": {
     "iopub.execute_input": "2022-01-09T16:05:25.125455Z",
     "iopub.status.busy": "2022-01-09T16:05:25.124817Z",
     "iopub.status.idle": "2022-01-09T16:05:25.136030Z",
     "shell.execute_reply": "2022-01-09T16:05:25.136460Z",
     "shell.execute_reply.started": "2022-01-09T15:54:33.837643Z"
    },
    "papermill": {
     "duration": 0.058924,
     "end_time": "2022-01-09T16:05:25.136643",
     "exception": false,
     "start_time": "2022-01-09T16:05:25.077719",
     "status": "completed"
    },
    "tags": []
   },
   "outputs": [
    {
     "name": "stdout",
     "output_type": "stream",
     "text": [
      "Shape of X_train is (4000, 10)\n",
      "Shape of X_test is (1000, 10)\n",
      "Shape of y_train is (4000,)\n",
      "Shape of y_test is (1000,)\n"
     ]
    }
   ],
   "source": [
    "X_train, X_test, y_train, y_test = train_test_split(X, y, test_size = 0.2, random_state = 42)\n",
    "print(\"Shape of X_train is\", X_train.shape)\n",
    "print(\"Shape of X_test is\", X_test.shape)\n",
    "print(\"Shape of y_train is\", y_train.shape)\n",
    "print(\"Shape of y_test is\", y_test.shape)"
   ]
  },
  {
   "cell_type": "markdown",
   "id": "b78f53ef",
   "metadata": {
    "papermill": {
     "duration": 0.043964,
     "end_time": "2022-01-09T16:05:25.225079",
     "exception": false,
     "start_time": "2022-01-09T16:05:25.181115",
     "status": "completed"
    },
    "tags": []
   },
   "source": [
    "# SVM Classification without Scaled Data"
   ]
  },
  {
   "cell_type": "code",
   "execution_count": 18,
   "id": "623bd48d",
   "metadata": {
    "execution": {
     "iopub.execute_input": "2022-01-09T16:05:25.318287Z",
     "iopub.status.busy": "2022-01-09T16:05:25.317685Z",
     "iopub.status.idle": "2022-01-09T16:05:25.519749Z",
     "shell.execute_reply": "2022-01-09T16:05:25.519046Z",
     "shell.execute_reply.started": "2022-01-09T15:54:33.851600Z"
    },
    "papermill": {
     "duration": 0.249104,
     "end_time": "2022-01-09T16:05:25.519905",
     "exception": false,
     "start_time": "2022-01-09T16:05:25.270801",
     "status": "completed"
    },
    "tags": []
   },
   "outputs": [
    {
     "name": "stderr",
     "output_type": "stream",
     "text": [
      "/opt/conda/lib/python3.7/site-packages/sklearn/svm/_base.py:977: ConvergenceWarning: Liblinear failed to converge, increase the number of iterations.\n",
      "  \"the number of iterations.\", ConvergenceWarning)\n"
     ]
    },
    {
     "data": {
      "text/plain": [
       "LinearSVC(C=1, loss='hinge', random_state=42)"
      ]
     },
     "execution_count": 18,
     "metadata": {},
     "output_type": "execute_result"
    }
   ],
   "source": [
    "lin_svc_without_scaling = LinearSVC(C = 1, loss = \"hinge\", random_state = 42)\n",
    "lin_svc_without_scaling.fit(X_train, y_train)"
   ]
  },
  {
   "cell_type": "markdown",
   "id": "57d0de27",
   "metadata": {
    "papermill": {
     "duration": 0.045256,
     "end_time": "2022-01-09T16:05:25.610549",
     "exception": false,
     "start_time": "2022-01-09T16:05:25.565293",
     "status": "completed"
    },
    "tags": []
   },
   "source": [
    "## Calculating Error On Training Data "
   ]
  },
  {
   "cell_type": "code",
   "execution_count": 19,
   "id": "90c29f73",
   "metadata": {
    "execution": {
     "iopub.execute_input": "2022-01-09T16:05:25.708228Z",
     "iopub.status.busy": "2022-01-09T16:05:25.707628Z",
     "iopub.status.idle": "2022-01-09T16:05:25.719683Z",
     "shell.execute_reply": "2022-01-09T16:05:25.720638Z",
     "shell.execute_reply.started": "2022-01-09T15:54:34.057056Z"
    },
    "papermill": {
     "duration": 0.064918,
     "end_time": "2022-01-09T16:05:25.720931",
     "exception": false,
     "start_time": "2022-01-09T16:05:25.656013",
     "status": "completed"
    },
    "tags": []
   },
   "outputs": [
    {
     "name": "stdout",
     "output_type": "stream",
     "text": [
      "Accuracy Score on Training Data for Linear SVC without scaling - 0.85625\n"
     ]
    }
   ],
   "source": [
    "y_pred = lin_svc_without_scaling.predict(X_train)\n",
    "score1 = accuracy_score(y_train, y_pred)\n",
    "print(\"Accuracy Score on Training Data for Linear SVC without scaling -\", score1)"
   ]
  },
  {
   "cell_type": "markdown",
   "id": "ccb5e9e5",
   "metadata": {
    "papermill": {
     "duration": 0.055716,
     "end_time": "2022-01-09T16:05:25.865581",
     "exception": false,
     "start_time": "2022-01-09T16:05:25.809865",
     "status": "completed"
    },
    "tags": []
   },
   "source": [
    "## Calculating Error On Testing Data "
   ]
  },
  {
   "cell_type": "code",
   "execution_count": 20,
   "id": "48588f87",
   "metadata": {
    "execution": {
     "iopub.execute_input": "2022-01-09T16:05:25.964819Z",
     "iopub.status.busy": "2022-01-09T16:05:25.963781Z",
     "iopub.status.idle": "2022-01-09T16:05:25.969403Z",
     "shell.execute_reply": "2022-01-09T16:05:25.970647Z",
     "shell.execute_reply.started": "2022-01-09T15:54:34.073375Z"
    },
    "papermill": {
     "duration": 0.059733,
     "end_time": "2022-01-09T16:05:25.970953",
     "exception": false,
     "start_time": "2022-01-09T16:05:25.911220",
     "status": "completed"
    },
    "tags": []
   },
   "outputs": [
    {
     "name": "stdout",
     "output_type": "stream",
     "text": [
      "Accuracy Score on Training Data for Linear SVC without scaling - 0.869\n"
     ]
    }
   ],
   "source": [
    "y_pred_test = lin_svc_without_scaling.predict(X_test)\n",
    "score2 = accuracy_score(y_test, y_pred_test)\n",
    "print(\"Accuracy Score on Training Data for Linear SVC without scaling -\", score2)"
   ]
  },
  {
   "cell_type": "markdown",
   "id": "778a2c17",
   "metadata": {
    "papermill": {
     "duration": 0.058512,
     "end_time": "2022-01-09T16:05:26.118130",
     "exception": false,
     "start_time": "2022-01-09T16:05:26.059618",
     "status": "completed"
    },
    "tags": []
   },
   "source": [
    "# SVM Classification on Scaled Data"
   ]
  },
  {
   "cell_type": "markdown",
   "id": "66b5e8f1",
   "metadata": {
    "papermill": {
     "duration": 0.04634,
     "end_time": "2022-01-09T16:05:26.210848",
     "exception": false,
     "start_time": "2022-01-09T16:05:26.164508",
     "status": "completed"
    },
    "tags": []
   },
   "source": [
    "## Scaling Data"
   ]
  },
  {
   "cell_type": "code",
   "execution_count": 21,
   "id": "2e44a999",
   "metadata": {
    "execution": {
     "iopub.execute_input": "2022-01-09T16:05:26.311252Z",
     "iopub.status.busy": "2022-01-09T16:05:26.310586Z",
     "iopub.status.idle": "2022-01-09T16:05:26.316567Z",
     "shell.execute_reply": "2022-01-09T16:05:26.317046Z",
     "shell.execute_reply.started": "2022-01-09T15:54:34.089730Z"
    },
    "papermill": {
     "duration": 0.059325,
     "end_time": "2022-01-09T16:05:26.317209",
     "exception": false,
     "start_time": "2022-01-09T16:05:26.257884",
     "status": "completed"
    },
    "tags": []
   },
   "outputs": [],
   "source": [
    "scaler = StandardScaler()\n",
    "X_train_scaled = scaler.fit_transform(X_train)\n",
    "X_test_scaled = scaler.transform(X_test)"
   ]
  },
  {
   "cell_type": "code",
   "execution_count": 22,
   "id": "a2cf46be",
   "metadata": {
    "execution": {
     "iopub.execute_input": "2022-01-09T16:05:26.415027Z",
     "iopub.status.busy": "2022-01-09T16:05:26.414315Z",
     "iopub.status.idle": "2022-01-09T16:05:26.431694Z",
     "shell.execute_reply": "2022-01-09T16:05:26.432509Z",
     "shell.execute_reply.started": "2022-01-09T15:54:34.112699Z"
    },
    "papermill": {
     "duration": 0.069488,
     "end_time": "2022-01-09T16:05:26.432749",
     "exception": false,
     "start_time": "2022-01-09T16:05:26.363261",
     "status": "completed"
    },
    "tags": []
   },
   "outputs": [
    {
     "name": "stderr",
     "output_type": "stream",
     "text": [
      "/opt/conda/lib/python3.7/site-packages/sklearn/svm/_base.py:977: ConvergenceWarning: Liblinear failed to converge, increase the number of iterations.\n",
      "  \"the number of iterations.\", ConvergenceWarning)\n"
     ]
    },
    {
     "data": {
      "text/plain": [
       "LinearSVC(C=1, loss='hinge', random_state=42)"
      ]
     },
     "execution_count": 22,
     "metadata": {},
     "output_type": "execute_result"
    }
   ],
   "source": [
    "lin_svc_with_scaling = LinearSVC(C = 1, loss = \"hinge\", random_state = 42)\n",
    "lin_svc_with_scaling.fit(X_train_scaled, y_train)"
   ]
  },
  {
   "cell_type": "markdown",
   "id": "812c8636",
   "metadata": {
    "papermill": {
     "duration": 0.046362,
     "end_time": "2022-01-09T16:05:26.526490",
     "exception": false,
     "start_time": "2022-01-09T16:05:26.480128",
     "status": "completed"
    },
    "tags": []
   },
   "source": [
    "## Calculating Error On Training Data "
   ]
  },
  {
   "cell_type": "code",
   "execution_count": 23,
   "id": "e5e8652e",
   "metadata": {
    "execution": {
     "iopub.execute_input": "2022-01-09T16:05:26.623550Z",
     "iopub.status.busy": "2022-01-09T16:05:26.622567Z",
     "iopub.status.idle": "2022-01-09T16:05:26.632891Z",
     "shell.execute_reply": "2022-01-09T16:05:26.633754Z",
     "shell.execute_reply.started": "2022-01-09T15:54:34.159903Z"
    },
    "papermill": {
     "duration": 0.060979,
     "end_time": "2022-01-09T16:05:26.633978",
     "exception": false,
     "start_time": "2022-01-09T16:05:26.572999",
     "status": "completed"
    },
    "tags": []
   },
   "outputs": [
    {
     "name": "stdout",
     "output_type": "stream",
     "text": [
      "Accuracy Score on Training Data for Linear SVC after scaling - 0.953\n"
     ]
    }
   ],
   "source": [
    "y_pred = lin_svc_with_scaling.predict(X_train_scaled)\n",
    "score3 = accuracy_score(y_train, y_pred)\n",
    "print(\"Accuracy Score on Training Data for Linear SVC after scaling -\", score3)"
   ]
  },
  {
   "cell_type": "code",
   "execution_count": 24,
   "id": "2e7f85ad",
   "metadata": {
    "execution": {
     "iopub.execute_input": "2022-01-09T16:05:26.788013Z",
     "iopub.status.busy": "2022-01-09T16:05:26.786823Z",
     "iopub.status.idle": "2022-01-09T16:05:26.790781Z",
     "shell.execute_reply": "2022-01-09T16:05:26.790243Z",
     "shell.execute_reply.started": "2022-01-09T15:54:34.182265Z"
    },
    "papermill": {
     "duration": 0.068226,
     "end_time": "2022-01-09T16:05:26.790917",
     "exception": false,
     "start_time": "2022-01-09T16:05:26.722691",
     "status": "completed"
    },
    "tags": []
   },
   "outputs": [
    {
     "name": "stdout",
     "output_type": "stream",
     "text": [
      "Increase in Accuracy Score on Training Data After Scaling- 11.3 %\n"
     ]
    }
   ],
   "source": [
    "diff = ((score3 - score1)/score1) * 100\n",
    "print(\"Increase in Accuracy Score on Training Data After Scaling-\", diff.round(2), \"%\")"
   ]
  },
  {
   "cell_type": "markdown",
   "id": "a8e18466",
   "metadata": {
    "papermill": {
     "duration": 0.047183,
     "end_time": "2022-01-09T16:05:26.886341",
     "exception": false,
     "start_time": "2022-01-09T16:05:26.839158",
     "status": "completed"
    },
    "tags": []
   },
   "source": [
    "## Calculating Error On Testing Data "
   ]
  },
  {
   "cell_type": "code",
   "execution_count": 25,
   "id": "2c422356",
   "metadata": {
    "execution": {
     "iopub.execute_input": "2022-01-09T16:05:26.985155Z",
     "iopub.status.busy": "2022-01-09T16:05:26.984115Z",
     "iopub.status.idle": "2022-01-09T16:05:26.991104Z",
     "shell.execute_reply": "2022-01-09T16:05:26.992098Z",
     "shell.execute_reply.started": "2022-01-09T15:54:34.202000Z"
    },
    "papermill": {
     "duration": 0.058672,
     "end_time": "2022-01-09T16:05:26.992385",
     "exception": false,
     "start_time": "2022-01-09T16:05:26.933713",
     "status": "completed"
    },
    "tags": []
   },
   "outputs": [
    {
     "name": "stdout",
     "output_type": "stream",
     "text": [
      "Accuracy Score on Training Data for Linear SVC without scaling - 0.952\n"
     ]
    }
   ],
   "source": [
    "y_pred_test = lin_svc_with_scaling.predict(X_test_scaled)\n",
    "score4 = accuracy_score(y_test, y_pred_test)\n",
    "print(\"Accuracy Score on Training Data for Linear SVC without scaling -\", score4)"
   ]
  },
  {
   "cell_type": "code",
   "execution_count": 26,
   "id": "98a09050",
   "metadata": {
    "execution": {
     "iopub.execute_input": "2022-01-09T16:05:27.148729Z",
     "iopub.status.busy": "2022-01-09T16:05:27.147780Z",
     "iopub.status.idle": "2022-01-09T16:05:27.151106Z",
     "shell.execute_reply": "2022-01-09T16:05:27.151644Z",
     "shell.execute_reply.started": "2022-01-09T15:54:34.215737Z"
    },
    "papermill": {
     "duration": 0.068485,
     "end_time": "2022-01-09T16:05:27.151811",
     "exception": false,
     "start_time": "2022-01-09T16:05:27.083326",
     "status": "completed"
    },
    "tags": []
   },
   "outputs": [
    {
     "name": "stdout",
     "output_type": "stream",
     "text": [
      "Increase in Accuracy Score on Training Data After Scaling- 9.55 %\n"
     ]
    }
   ],
   "source": [
    "diff = ((score4 - score2)/score2) * 100\n",
    "print(\"Increase in Accuracy Score on Training Data After Scaling-\", diff.round(2), \"%\")"
   ]
  },
  {
   "cell_type": "markdown",
   "id": "349810a1",
   "metadata": {
    "papermill": {
     "duration": 0.047744,
     "end_time": "2022-01-09T16:05:27.247787",
     "exception": false,
     "start_time": "2022-01-09T16:05:27.200043",
     "status": "completed"
    },
    "tags": []
   },
   "source": [
    "# LinearSVC vs SVC(kernel = \"linear\")"
   ]
  },
  {
   "cell_type": "code",
   "execution_count": 27,
   "id": "9bfa08aa",
   "metadata": {
    "execution": {
     "iopub.execute_input": "2022-01-09T16:05:27.348942Z",
     "iopub.status.busy": "2022-01-09T16:05:27.347977Z",
     "iopub.status.idle": "2022-01-09T16:05:27.435668Z",
     "shell.execute_reply": "2022-01-09T16:05:27.436131Z",
     "shell.execute_reply.started": "2022-01-09T15:54:34.231857Z"
    },
    "papermill": {
     "duration": 0.139146,
     "end_time": "2022-01-09T16:05:27.436307",
     "exception": false,
     "start_time": "2022-01-09T16:05:27.297161",
     "status": "completed"
    },
    "tags": []
   },
   "outputs": [
    {
     "data": {
      "text/plain": [
       "SVC(C=1, coef0=1, random_state=42)"
      ]
     },
     "execution_count": 27,
     "metadata": {},
     "output_type": "execute_result"
    }
   ],
   "source": [
    "svc_lin_kernel = SVC(C = 1, coef0 = 1,random_state = 42)\n",
    "svc_lin_kernel.fit(X_train_scaled, y_train)"
   ]
  },
  {
   "cell_type": "markdown",
   "id": "2eea3037",
   "metadata": {
    "papermill": {
     "duration": 0.048476,
     "end_time": "2022-01-09T16:05:27.536420",
     "exception": false,
     "start_time": "2022-01-09T16:05:27.487944",
     "status": "completed"
    },
    "tags": []
   },
   "source": [
    "## Calculating Error On Training Data "
   ]
  },
  {
   "cell_type": "code",
   "execution_count": 28,
   "id": "189e712b",
   "metadata": {
    "execution": {
     "iopub.execute_input": "2022-01-09T16:05:27.640101Z",
     "iopub.status.busy": "2022-01-09T16:05:27.639215Z",
     "iopub.status.idle": "2022-01-09T16:05:27.689989Z",
     "shell.execute_reply": "2022-01-09T16:05:27.690448Z",
     "shell.execute_reply.started": "2022-01-09T15:54:34.375034Z"
    },
    "papermill": {
     "duration": 0.105601,
     "end_time": "2022-01-09T16:05:27.690663",
     "exception": false,
     "start_time": "2022-01-09T16:05:27.585062",
     "status": "completed"
    },
    "tags": []
   },
   "outputs": [
    {
     "name": "stdout",
     "output_type": "stream",
     "text": [
      "Accuracy Score on Training Data for Linear SVC after scaling - 0.98175\n"
     ]
    }
   ],
   "source": [
    "y_pred = svc_lin_kernel.predict(X_train_scaled)\n",
    "score5 = accuracy_score(y_train, y_pred)\n",
    "print(\"Accuracy Score on Training Data for Linear SVC after scaling -\", score5)"
   ]
  },
  {
   "cell_type": "markdown",
   "id": "e0551fd2",
   "metadata": {
    "papermill": {
     "duration": 0.049741,
     "end_time": "2022-01-09T16:05:27.789349",
     "exception": false,
     "start_time": "2022-01-09T16:05:27.739608",
     "status": "completed"
    },
    "tags": []
   },
   "source": [
    "## Calculating Error On Testing Data "
   ]
  },
  {
   "cell_type": "code",
   "execution_count": 29,
   "id": "0872dff8",
   "metadata": {
    "execution": {
     "iopub.execute_input": "2022-01-09T16:05:27.892734Z",
     "iopub.status.busy": "2022-01-09T16:05:27.891729Z",
     "iopub.status.idle": "2022-01-09T16:05:27.910370Z",
     "shell.execute_reply": "2022-01-09T16:05:27.911344Z",
     "shell.execute_reply.started": "2022-01-09T15:54:34.428932Z"
    },
    "papermill": {
     "duration": 0.071625,
     "end_time": "2022-01-09T16:05:27.911686",
     "exception": false,
     "start_time": "2022-01-09T16:05:27.840061",
     "status": "completed"
    },
    "tags": []
   },
   "outputs": [
    {
     "name": "stdout",
     "output_type": "stream",
     "text": [
      "Accuracy Score on Training Data for Linear SVC after scaling - 0.978\n"
     ]
    }
   ],
   "source": [
    "y_pred_test = svc_lin_kernel.predict(X_test_scaled)\n",
    "score6 = accuracy_score(y_test, y_pred_test)\n",
    "print(\"Accuracy Score on Training Data for Linear SVC after scaling -\", score6)"
   ]
  },
  {
   "cell_type": "code",
   "execution_count": 30,
   "id": "342f89f6",
   "metadata": {
    "execution": {
     "iopub.execute_input": "2022-01-09T16:05:28.015971Z",
     "iopub.status.busy": "2022-01-09T16:05:28.015329Z",
     "iopub.status.idle": "2022-01-09T16:05:28.020741Z",
     "shell.execute_reply": "2022-01-09T16:05:28.021313Z",
     "shell.execute_reply.started": "2022-01-09T15:54:34.447239Z"
    },
    "papermill": {
     "duration": 0.058604,
     "end_time": "2022-01-09T16:05:28.021485",
     "exception": false,
     "start_time": "2022-01-09T16:05:27.962881",
     "status": "completed"
    },
    "tags": []
   },
   "outputs": [
    {
     "name": "stdout",
     "output_type": "stream",
     "text": [
      "Increase in Accuracy Score on Training Data Between LinearSVC and SVC(linear)- 3.02 %\n"
     ]
    }
   ],
   "source": [
    "diff = ((score5 - score3)/score3) * 100\n",
    "print(\"Increase in Accuracy Score on Training Data Between LinearSVC and SVC(linear)-\", diff.round(2), \"%\")"
   ]
  },
  {
   "cell_type": "code",
   "execution_count": 31,
   "id": "e80bb70a",
   "metadata": {
    "execution": {
     "iopub.execute_input": "2022-01-09T16:05:28.123833Z",
     "iopub.status.busy": "2022-01-09T16:05:28.123207Z",
     "iopub.status.idle": "2022-01-09T16:05:28.128422Z",
     "shell.execute_reply": "2022-01-09T16:05:28.129004Z",
     "shell.execute_reply.started": "2022-01-09T15:54:34.453792Z"
    },
    "papermill": {
     "duration": 0.057728,
     "end_time": "2022-01-09T16:05:28.129166",
     "exception": false,
     "start_time": "2022-01-09T16:05:28.071438",
     "status": "completed"
    },
    "tags": []
   },
   "outputs": [
    {
     "name": "stdout",
     "output_type": "stream",
     "text": [
      "Increase in Accuracy Score on Testing Data Between LinearSVC and SVC(linear)- 2.73 %\n"
     ]
    }
   ],
   "source": [
    "diff = ((score6 - score4)/score4) * 100\n",
    "print(\"Increase in Accuracy Score on Testing Data Between LinearSVC and SVC(linear)-\", diff.round(2), \"%\")"
   ]
  },
  {
   "cell_type": "markdown",
   "id": "0224c8e7",
   "metadata": {
    "papermill": {
     "duration": 0.049574,
     "end_time": "2022-01-09T16:05:28.228658",
     "exception": false,
     "start_time": "2022-01-09T16:05:28.179084",
     "status": "completed"
    },
    "tags": []
   },
   "source": [
    "# Grid Search for finding best estimators"
   ]
  },
  {
   "cell_type": "code",
   "execution_count": 32,
   "id": "9def675f",
   "metadata": {
    "execution": {
     "iopub.execute_input": "2022-01-09T16:05:28.331935Z",
     "iopub.status.busy": "2022-01-09T16:05:28.331284Z",
     "iopub.status.idle": "2022-01-09T16:10:24.368300Z",
     "shell.execute_reply": "2022-01-09T16:10:24.368992Z",
     "shell.execute_reply.started": "2022-01-09T15:54:34.466757Z"
    },
    "papermill": {
     "duration": 296.090279,
     "end_time": "2022-01-09T16:10:24.369216",
     "exception": false,
     "start_time": "2022-01-09T16:05:28.278937",
     "status": "completed"
    },
    "tags": []
   },
   "outputs": [
    {
     "name": "stdout",
     "output_type": "stream",
     "text": [
      "Fitting 5 folds for each of 50 candidates, totalling 250 fits\n",
      "[CV] C=0.1, gamma=1, kernel=rbf ......................................\n"
     ]
    },
    {
     "name": "stderr",
     "output_type": "stream",
     "text": [
      "[Parallel(n_jobs=1)]: Using backend SequentialBackend with 1 concurrent workers.\n"
     ]
    },
    {
     "name": "stdout",
     "output_type": "stream",
     "text": [
      "[CV] .......... C=0.1, gamma=1, kernel=rbf, score=0.906, total=   0.3s\n",
      "[CV] C=0.1, gamma=1, kernel=rbf ......................................\n"
     ]
    },
    {
     "name": "stderr",
     "output_type": "stream",
     "text": [
      "[Parallel(n_jobs=1)]: Done   1 out of   1 | elapsed:    0.3s remaining:    0.0s\n"
     ]
    },
    {
     "name": "stdout",
     "output_type": "stream",
     "text": [
      "[CV] .......... C=0.1, gamma=1, kernel=rbf, score=0.906, total=   0.3s\n",
      "[CV] C=0.1, gamma=1, kernel=rbf ......................................\n"
     ]
    },
    {
     "name": "stderr",
     "output_type": "stream",
     "text": [
      "[Parallel(n_jobs=1)]: Done   2 out of   2 | elapsed:    0.6s remaining:    0.0s\n"
     ]
    },
    {
     "name": "stdout",
     "output_type": "stream",
     "text": [
      "[CV] .......... C=0.1, gamma=1, kernel=rbf, score=0.906, total=   0.3s\n",
      "[CV] C=0.1, gamma=1, kernel=rbf ......................................\n",
      "[CV] .......... C=0.1, gamma=1, kernel=rbf, score=0.906, total=   0.3s\n",
      "[CV] C=0.1, gamma=1, kernel=rbf ......................................\n",
      "[CV] .......... C=0.1, gamma=1, kernel=rbf, score=0.906, total=   0.3s\n",
      "[CV] C=0.1, gamma=1, kernel=linear ...................................\n",
      "[CV] ....... C=0.1, gamma=1, kernel=linear, score=0.950, total=   0.0s\n",
      "[CV] C=0.1, gamma=1, kernel=linear ...................................\n",
      "[CV] ....... C=0.1, gamma=1, kernel=linear, score=0.955, total=   0.0s\n",
      "[CV] C=0.1, gamma=1, kernel=linear ...................................\n",
      "[CV] ....... C=0.1, gamma=1, kernel=linear, score=0.954, total=   0.0s\n",
      "[CV] C=0.1, gamma=1, kernel=linear ...................................\n",
      "[CV] ....... C=0.1, gamma=1, kernel=linear, score=0.944, total=   0.0s\n",
      "[CV] C=0.1, gamma=1, kernel=linear ...................................\n",
      "[CV] ....... C=0.1, gamma=1, kernel=linear, score=0.958, total=   0.0s\n",
      "[CV] C=0.1, gamma=0.1, kernel=rbf ....................................\n",
      "[CV] ........ C=0.1, gamma=0.1, kernel=rbf, score=0.929, total=   0.1s\n",
      "[CV] C=0.1, gamma=0.1, kernel=rbf ....................................\n",
      "[CV] ........ C=0.1, gamma=0.1, kernel=rbf, score=0.944, total=   0.1s\n",
      "[CV] C=0.1, gamma=0.1, kernel=rbf ....................................\n",
      "[CV] ........ C=0.1, gamma=0.1, kernel=rbf, score=0.945, total=   0.1s\n",
      "[CV] C=0.1, gamma=0.1, kernel=rbf ....................................\n",
      "[CV] ........ C=0.1, gamma=0.1, kernel=rbf, score=0.934, total=   0.1s\n",
      "[CV] C=0.1, gamma=0.1, kernel=rbf ....................................\n",
      "[CV] ........ C=0.1, gamma=0.1, kernel=rbf, score=0.941, total=   0.1s\n",
      "[CV] C=0.1, gamma=0.1, kernel=linear .................................\n",
      "[CV] ..... C=0.1, gamma=0.1, kernel=linear, score=0.950, total=   0.0s\n",
      "[CV] C=0.1, gamma=0.1, kernel=linear .................................\n",
      "[CV] ..... C=0.1, gamma=0.1, kernel=linear, score=0.955, total=   0.0s\n",
      "[CV] C=0.1, gamma=0.1, kernel=linear .................................\n",
      "[CV] ..... C=0.1, gamma=0.1, kernel=linear, score=0.954, total=   0.0s\n",
      "[CV] C=0.1, gamma=0.1, kernel=linear .................................\n",
      "[CV] ..... C=0.1, gamma=0.1, kernel=linear, score=0.944, total=   0.0s\n",
      "[CV] C=0.1, gamma=0.1, kernel=linear .................................\n",
      "[CV] ..... C=0.1, gamma=0.1, kernel=linear, score=0.958, total=   0.0s\n",
      "[CV] C=0.1, gamma=0.01, kernel=rbf ...................................\n",
      "[CV] ....... C=0.1, gamma=0.01, kernel=rbf, score=0.906, total=   0.1s\n",
      "[CV] C=0.1, gamma=0.01, kernel=rbf ...................................\n",
      "[CV] ....... C=0.1, gamma=0.01, kernel=rbf, score=0.909, total=   0.1s\n",
      "[CV] C=0.1, gamma=0.01, kernel=rbf ...................................\n",
      "[CV] ....... C=0.1, gamma=0.01, kernel=rbf, score=0.912, total=   0.1s\n",
      "[CV] C=0.1, gamma=0.01, kernel=rbf ...................................\n",
      "[CV] ....... C=0.1, gamma=0.01, kernel=rbf, score=0.910, total=   0.1s\n",
      "[CV] C=0.1, gamma=0.01, kernel=rbf ...................................\n",
      "[CV] ....... C=0.1, gamma=0.01, kernel=rbf, score=0.909, total=   0.1s\n",
      "[CV] C=0.1, gamma=0.01, kernel=linear ................................\n",
      "[CV] .... C=0.1, gamma=0.01, kernel=linear, score=0.950, total=   0.0s\n",
      "[CV] C=0.1, gamma=0.01, kernel=linear ................................\n",
      "[CV] .... C=0.1, gamma=0.01, kernel=linear, score=0.955, total=   0.0s\n",
      "[CV] C=0.1, gamma=0.01, kernel=linear ................................\n",
      "[CV] .... C=0.1, gamma=0.01, kernel=linear, score=0.954, total=   0.0s\n",
      "[CV] C=0.1, gamma=0.01, kernel=linear ................................\n",
      "[CV] .... C=0.1, gamma=0.01, kernel=linear, score=0.944, total=   0.0s\n",
      "[CV] C=0.1, gamma=0.01, kernel=linear ................................\n",
      "[CV] .... C=0.1, gamma=0.01, kernel=linear, score=0.958, total=   0.0s\n",
      "[CV] C=0.1, gamma=0.001, kernel=rbf ..................................\n",
      "[CV] ...... C=0.1, gamma=0.001, kernel=rbf, score=0.906, total=   0.1s\n",
      "[CV] C=0.1, gamma=0.001, kernel=rbf ..................................\n",
      "[CV] ...... C=0.1, gamma=0.001, kernel=rbf, score=0.906, total=   0.1s\n",
      "[CV] C=0.1, gamma=0.001, kernel=rbf ..................................\n",
      "[CV] ...... C=0.1, gamma=0.001, kernel=rbf, score=0.906, total=   0.1s\n",
      "[CV] C=0.1, gamma=0.001, kernel=rbf ..................................\n",
      "[CV] ...... C=0.1, gamma=0.001, kernel=rbf, score=0.906, total=   0.1s\n",
      "[CV] C=0.1, gamma=0.001, kernel=rbf ..................................\n",
      "[CV] ...... C=0.1, gamma=0.001, kernel=rbf, score=0.906, total=   0.1s\n",
      "[CV] C=0.1, gamma=0.001, kernel=linear ...............................\n",
      "[CV] ... C=0.1, gamma=0.001, kernel=linear, score=0.950, total=   0.0s\n",
      "[CV] C=0.1, gamma=0.001, kernel=linear ...............................\n",
      "[CV] ... C=0.1, gamma=0.001, kernel=linear, score=0.955, total=   0.0s\n",
      "[CV] C=0.1, gamma=0.001, kernel=linear ...............................\n",
      "[CV] ... C=0.1, gamma=0.001, kernel=linear, score=0.954, total=   0.0s\n",
      "[CV] C=0.1, gamma=0.001, kernel=linear ...............................\n",
      "[CV] ... C=0.1, gamma=0.001, kernel=linear, score=0.944, total=   0.0s\n",
      "[CV] C=0.1, gamma=0.001, kernel=linear ...............................\n",
      "[CV] ... C=0.1, gamma=0.001, kernel=linear, score=0.958, total=   0.0s\n",
      "[CV] C=0.1, gamma=0.0001, kernel=rbf .................................\n",
      "[CV] ..... C=0.1, gamma=0.0001, kernel=rbf, score=0.906, total=   0.1s\n",
      "[CV] C=0.1, gamma=0.0001, kernel=rbf .................................\n",
      "[CV] ..... C=0.1, gamma=0.0001, kernel=rbf, score=0.906, total=   0.1s\n",
      "[CV] C=0.1, gamma=0.0001, kernel=rbf .................................\n",
      "[CV] ..... C=0.1, gamma=0.0001, kernel=rbf, score=0.906, total=   0.1s\n",
      "[CV] C=0.1, gamma=0.0001, kernel=rbf .................................\n",
      "[CV] ..... C=0.1, gamma=0.0001, kernel=rbf, score=0.906, total=   0.1s\n",
      "[CV] C=0.1, gamma=0.0001, kernel=rbf .................................\n",
      "[CV] ..... C=0.1, gamma=0.0001, kernel=rbf, score=0.906, total=   0.1s\n",
      "[CV] C=0.1, gamma=0.0001, kernel=linear ..............................\n",
      "[CV] .. C=0.1, gamma=0.0001, kernel=linear, score=0.950, total=   0.0s\n",
      "[CV] C=0.1, gamma=0.0001, kernel=linear ..............................\n",
      "[CV] .. C=0.1, gamma=0.0001, kernel=linear, score=0.955, total=   0.0s\n",
      "[CV] C=0.1, gamma=0.0001, kernel=linear ..............................\n",
      "[CV] .. C=0.1, gamma=0.0001, kernel=linear, score=0.954, total=   0.0s\n",
      "[CV] C=0.1, gamma=0.0001, kernel=linear ..............................\n",
      "[CV] .. C=0.1, gamma=0.0001, kernel=linear, score=0.944, total=   0.0s\n",
      "[CV] C=0.1, gamma=0.0001, kernel=linear ..............................\n",
      "[CV] .. C=0.1, gamma=0.0001, kernel=linear, score=0.958, total=   0.0s\n",
      "[CV] C=1, gamma=1, kernel=rbf ........................................\n",
      "[CV] ............ C=1, gamma=1, kernel=rbf, score=0.925, total=   0.3s\n",
      "[CV] C=1, gamma=1, kernel=rbf ........................................\n",
      "[CV] ............ C=1, gamma=1, kernel=rbf, score=0.934, total=   0.3s\n",
      "[CV] C=1, gamma=1, kernel=rbf ........................................\n",
      "[CV] ............ C=1, gamma=1, kernel=rbf, score=0.925, total=   0.3s\n",
      "[CV] C=1, gamma=1, kernel=rbf ........................................\n",
      "[CV] ............ C=1, gamma=1, kernel=rbf, score=0.934, total=   0.3s\n",
      "[CV] C=1, gamma=1, kernel=rbf ........................................\n",
      "[CV] ............ C=1, gamma=1, kernel=rbf, score=0.927, total=   0.3s\n",
      "[CV] C=1, gamma=1, kernel=linear .....................................\n",
      "[CV] ......... C=1, gamma=1, kernel=linear, score=0.950, total=   0.1s\n",
      "[CV] C=1, gamma=1, kernel=linear .....................................\n",
      "[CV] ......... C=1, gamma=1, kernel=linear, score=0.958, total=   0.1s\n",
      "[CV] C=1, gamma=1, kernel=linear .....................................\n",
      "[CV] ......... C=1, gamma=1, kernel=linear, score=0.955, total=   0.1s\n",
      "[CV] C=1, gamma=1, kernel=linear .....................................\n",
      "[CV] ......... C=1, gamma=1, kernel=linear, score=0.943, total=   0.1s\n",
      "[CV] C=1, gamma=1, kernel=linear .....................................\n",
      "[CV] ......... C=1, gamma=1, kernel=linear, score=0.959, total=   0.1s\n",
      "[CV] C=1, gamma=0.1, kernel=rbf ......................................\n",
      "[CV] .......... C=1, gamma=0.1, kernel=rbf, score=0.973, total=   0.1s\n",
      "[CV] C=1, gamma=0.1, kernel=rbf ......................................\n",
      "[CV] .......... C=1, gamma=0.1, kernel=rbf, score=0.978, total=   0.1s\n",
      "[CV] C=1, gamma=0.1, kernel=rbf ......................................\n",
      "[CV] .......... C=1, gamma=0.1, kernel=rbf, score=0.969, total=   0.1s\n",
      "[CV] C=1, gamma=0.1, kernel=rbf ......................................\n",
      "[CV] .......... C=1, gamma=0.1, kernel=rbf, score=0.970, total=   0.1s\n",
      "[CV] C=1, gamma=0.1, kernel=rbf ......................................\n",
      "[CV] .......... C=1, gamma=0.1, kernel=rbf, score=0.980, total=   0.1s\n",
      "[CV] C=1, gamma=0.1, kernel=linear ...................................\n",
      "[CV] ....... C=1, gamma=0.1, kernel=linear, score=0.950, total=   0.1s\n",
      "[CV] C=1, gamma=0.1, kernel=linear ...................................\n",
      "[CV] ....... C=1, gamma=0.1, kernel=linear, score=0.958, total=   0.1s\n",
      "[CV] C=1, gamma=0.1, kernel=linear ...................................\n",
      "[CV] ....... C=1, gamma=0.1, kernel=linear, score=0.955, total=   0.1s\n",
      "[CV] C=1, gamma=0.1, kernel=linear ...................................\n",
      "[CV] ....... C=1, gamma=0.1, kernel=linear, score=0.943, total=   0.1s\n",
      "[CV] C=1, gamma=0.1, kernel=linear ...................................\n",
      "[CV] ....... C=1, gamma=0.1, kernel=linear, score=0.959, total=   0.1s\n",
      "[CV] C=1, gamma=0.01, kernel=rbf .....................................\n",
      "[CV] ......... C=1, gamma=0.01, kernel=rbf, score=0.950, total=   0.1s\n",
      "[CV] C=1, gamma=0.01, kernel=rbf .....................................\n",
      "[CV] ......... C=1, gamma=0.01, kernel=rbf, score=0.960, total=   0.1s\n",
      "[CV] C=1, gamma=0.01, kernel=rbf .....................................\n",
      "[CV] ......... C=1, gamma=0.01, kernel=rbf, score=0.959, total=   0.1s\n",
      "[CV] C=1, gamma=0.01, kernel=rbf .....................................\n",
      "[CV] ......... C=1, gamma=0.01, kernel=rbf, score=0.948, total=   0.1s\n",
      "[CV] C=1, gamma=0.01, kernel=rbf .....................................\n",
      "[CV] ......... C=1, gamma=0.01, kernel=rbf, score=0.960, total=   0.1s\n",
      "[CV] C=1, gamma=0.01, kernel=linear ..................................\n",
      "[CV] ...... C=1, gamma=0.01, kernel=linear, score=0.950, total=   0.1s\n",
      "[CV] C=1, gamma=0.01, kernel=linear ..................................\n",
      "[CV] ...... C=1, gamma=0.01, kernel=linear, score=0.958, total=   0.1s\n",
      "[CV] C=1, gamma=0.01, kernel=linear ..................................\n",
      "[CV] ...... C=1, gamma=0.01, kernel=linear, score=0.955, total=   0.1s\n",
      "[CV] C=1, gamma=0.01, kernel=linear ..................................\n",
      "[CV] ...... C=1, gamma=0.01, kernel=linear, score=0.943, total=   0.1s\n",
      "[CV] C=1, gamma=0.01, kernel=linear ..................................\n",
      "[CV] ...... C=1, gamma=0.01, kernel=linear, score=0.959, total=   0.1s\n",
      "[CV] C=1, gamma=0.001, kernel=rbf ....................................\n",
      "[CV] ........ C=1, gamma=0.001, kernel=rbf, score=0.912, total=   0.1s\n",
      "[CV] C=1, gamma=0.001, kernel=rbf ....................................\n",
      "[CV] ........ C=1, gamma=0.001, kernel=rbf, score=0.916, total=   0.1s\n",
      "[CV] C=1, gamma=0.001, kernel=rbf ....................................\n",
      "[CV] ........ C=1, gamma=0.001, kernel=rbf, score=0.922, total=   0.1s\n",
      "[CV] C=1, gamma=0.001, kernel=rbf ....................................\n",
      "[CV] ........ C=1, gamma=0.001, kernel=rbf, score=0.919, total=   0.1s\n",
      "[CV] C=1, gamma=0.001, kernel=rbf ....................................\n",
      "[CV] ........ C=1, gamma=0.001, kernel=rbf, score=0.916, total=   0.1s\n",
      "[CV] C=1, gamma=0.001, kernel=linear .................................\n",
      "[CV] ..... C=1, gamma=0.001, kernel=linear, score=0.950, total=   0.1s\n",
      "[CV] C=1, gamma=0.001, kernel=linear .................................\n",
      "[CV] ..... C=1, gamma=0.001, kernel=linear, score=0.958, total=   0.1s\n",
      "[CV] C=1, gamma=0.001, kernel=linear .................................\n",
      "[CV] ..... C=1, gamma=0.001, kernel=linear, score=0.955, total=   0.1s\n",
      "[CV] C=1, gamma=0.001, kernel=linear .................................\n",
      "[CV] ..... C=1, gamma=0.001, kernel=linear, score=0.943, total=   0.1s\n",
      "[CV] C=1, gamma=0.001, kernel=linear .................................\n",
      "[CV] ..... C=1, gamma=0.001, kernel=linear, score=0.959, total=   0.1s\n",
      "[CV] C=1, gamma=0.0001, kernel=rbf ...................................\n",
      "[CV] ....... C=1, gamma=0.0001, kernel=rbf, score=0.906, total=   0.1s\n",
      "[CV] C=1, gamma=0.0001, kernel=rbf ...................................\n",
      "[CV] ....... C=1, gamma=0.0001, kernel=rbf, score=0.906, total=   0.1s\n",
      "[CV] C=1, gamma=0.0001, kernel=rbf ...................................\n",
      "[CV] ....... C=1, gamma=0.0001, kernel=rbf, score=0.906, total=   0.1s\n",
      "[CV] C=1, gamma=0.0001, kernel=rbf ...................................\n",
      "[CV] ....... C=1, gamma=0.0001, kernel=rbf, score=0.906, total=   0.1s\n",
      "[CV] C=1, gamma=0.0001, kernel=rbf ...................................\n",
      "[CV] ....... C=1, gamma=0.0001, kernel=rbf, score=0.906, total=   0.1s\n",
      "[CV] C=1, gamma=0.0001, kernel=linear ................................\n",
      "[CV] .... C=1, gamma=0.0001, kernel=linear, score=0.950, total=   0.1s\n",
      "[CV] C=1, gamma=0.0001, kernel=linear ................................\n",
      "[CV] .... C=1, gamma=0.0001, kernel=linear, score=0.958, total=   0.1s\n",
      "[CV] C=1, gamma=0.0001, kernel=linear ................................\n",
      "[CV] .... C=1, gamma=0.0001, kernel=linear, score=0.955, total=   0.1s\n",
      "[CV] C=1, gamma=0.0001, kernel=linear ................................\n",
      "[CV] .... C=1, gamma=0.0001, kernel=linear, score=0.943, total=   0.1s\n",
      "[CV] C=1, gamma=0.0001, kernel=linear ................................\n",
      "[CV] .... C=1, gamma=0.0001, kernel=linear, score=0.959, total=   0.1s\n",
      "[CV] C=10, gamma=1, kernel=rbf .......................................\n",
      "[CV] ........... C=10, gamma=1, kernel=rbf, score=0.936, total=   0.3s\n",
      "[CV] C=10, gamma=1, kernel=rbf .......................................\n",
      "[CV] ........... C=10, gamma=1, kernel=rbf, score=0.931, total=   0.3s\n",
      "[CV] C=10, gamma=1, kernel=rbf .......................................\n",
      "[CV] ........... C=10, gamma=1, kernel=rbf, score=0.930, total=   0.3s\n",
      "[CV] C=10, gamma=1, kernel=rbf .......................................\n",
      "[CV] ........... C=10, gamma=1, kernel=rbf, score=0.943, total=   0.3s\n",
      "[CV] C=10, gamma=1, kernel=rbf .......................................\n",
      "[CV] ........... C=10, gamma=1, kernel=rbf, score=0.932, total=   0.4s\n",
      "[CV] C=10, gamma=1, kernel=linear ....................................\n",
      "[CV] ........ C=10, gamma=1, kernel=linear, score=0.950, total=   0.2s\n",
      "[CV] C=10, gamma=1, kernel=linear ....................................\n",
      "[CV] ........ C=10, gamma=1, kernel=linear, score=0.958, total=   0.2s\n",
      "[CV] C=10, gamma=1, kernel=linear ....................................\n",
      "[CV] ........ C=10, gamma=1, kernel=linear, score=0.955, total=   0.2s\n",
      "[CV] C=10, gamma=1, kernel=linear ....................................\n",
      "[CV] ........ C=10, gamma=1, kernel=linear, score=0.943, total=   0.2s\n",
      "[CV] C=10, gamma=1, kernel=linear ....................................\n",
      "[CV] ........ C=10, gamma=1, kernel=linear, score=0.959, total=   0.2s\n",
      "[CV] C=10, gamma=0.1, kernel=rbf .....................................\n",
      "[CV] ......... C=10, gamma=0.1, kernel=rbf, score=0.980, total=   0.1s\n",
      "[CV] C=10, gamma=0.1, kernel=rbf .....................................\n",
      "[CV] ......... C=10, gamma=0.1, kernel=rbf, score=0.974, total=   0.1s\n",
      "[CV] C=10, gamma=0.1, kernel=rbf .....................................\n",
      "[CV] ......... C=10, gamma=0.1, kernel=rbf, score=0.974, total=   0.1s\n",
      "[CV] C=10, gamma=0.1, kernel=rbf .....................................\n",
      "[CV] ......... C=10, gamma=0.1, kernel=rbf, score=0.974, total=   0.1s\n",
      "[CV] C=10, gamma=0.1, kernel=rbf .....................................\n",
      "[CV] ......... C=10, gamma=0.1, kernel=rbf, score=0.975, total=   0.1s\n",
      "[CV] C=10, gamma=0.1, kernel=linear ..................................\n",
      "[CV] ...... C=10, gamma=0.1, kernel=linear, score=0.950, total=   0.2s\n",
      "[CV] C=10, gamma=0.1, kernel=linear ..................................\n",
      "[CV] ...... C=10, gamma=0.1, kernel=linear, score=0.958, total=   0.2s\n",
      "[CV] C=10, gamma=0.1, kernel=linear ..................................\n",
      "[CV] ...... C=10, gamma=0.1, kernel=linear, score=0.955, total=   0.2s\n",
      "[CV] C=10, gamma=0.1, kernel=linear ..................................\n",
      "[CV] ...... C=10, gamma=0.1, kernel=linear, score=0.943, total=   0.2s\n",
      "[CV] C=10, gamma=0.1, kernel=linear ..................................\n",
      "[CV] ...... C=10, gamma=0.1, kernel=linear, score=0.959, total=   0.2s\n",
      "[CV] C=10, gamma=0.01, kernel=rbf ....................................\n",
      "[CV] ........ C=10, gamma=0.01, kernel=rbf, score=0.968, total=   0.1s\n",
      "[CV] C=10, gamma=0.01, kernel=rbf ....................................\n",
      "[CV] ........ C=10, gamma=0.01, kernel=rbf, score=0.975, total=   0.1s\n",
      "[CV] C=10, gamma=0.01, kernel=rbf ....................................\n",
      "[CV] ........ C=10, gamma=0.01, kernel=rbf, score=0.969, total=   0.1s\n",
      "[CV] C=10, gamma=0.01, kernel=rbf ....................................\n",
      "[CV] ........ C=10, gamma=0.01, kernel=rbf, score=0.965, total=   0.1s\n",
      "[CV] C=10, gamma=0.01, kernel=rbf ....................................\n",
      "[CV] ........ C=10, gamma=0.01, kernel=rbf, score=0.978, total=   0.1s\n",
      "[CV] C=10, gamma=0.01, kernel=linear .................................\n",
      "[CV] ..... C=10, gamma=0.01, kernel=linear, score=0.950, total=   0.2s\n",
      "[CV] C=10, gamma=0.01, kernel=linear .................................\n",
      "[CV] ..... C=10, gamma=0.01, kernel=linear, score=0.958, total=   0.2s\n",
      "[CV] C=10, gamma=0.01, kernel=linear .................................\n",
      "[CV] ..... C=10, gamma=0.01, kernel=linear, score=0.955, total=   0.2s\n",
      "[CV] C=10, gamma=0.01, kernel=linear .................................\n",
      "[CV] ..... C=10, gamma=0.01, kernel=linear, score=0.943, total=   0.2s\n",
      "[CV] C=10, gamma=0.01, kernel=linear .................................\n",
      "[CV] ..... C=10, gamma=0.01, kernel=linear, score=0.959, total=   0.2s\n",
      "[CV] C=10, gamma=0.001, kernel=rbf ...................................\n",
      "[CV] ....... C=10, gamma=0.001, kernel=rbf, score=0.944, total=   0.1s\n",
      "[CV] C=10, gamma=0.001, kernel=rbf ...................................\n",
      "[CV] ....... C=10, gamma=0.001, kernel=rbf, score=0.954, total=   0.1s\n",
      "[CV] C=10, gamma=0.001, kernel=rbf ...................................\n",
      "[CV] ....... C=10, gamma=0.001, kernel=rbf, score=0.951, total=   0.1s\n",
      "[CV] C=10, gamma=0.001, kernel=rbf ...................................\n",
      "[CV] ....... C=10, gamma=0.001, kernel=rbf, score=0.944, total=   0.1s\n",
      "[CV] C=10, gamma=0.001, kernel=rbf ...................................\n",
      "[CV] ....... C=10, gamma=0.001, kernel=rbf, score=0.953, total=   0.1s\n",
      "[CV] C=10, gamma=0.001, kernel=linear ................................\n",
      "[CV] .... C=10, gamma=0.001, kernel=linear, score=0.950, total=   0.2s\n",
      "[CV] C=10, gamma=0.001, kernel=linear ................................\n",
      "[CV] .... C=10, gamma=0.001, kernel=linear, score=0.958, total=   0.2s\n",
      "[CV] C=10, gamma=0.001, kernel=linear ................................\n",
      "[CV] .... C=10, gamma=0.001, kernel=linear, score=0.955, total=   0.2s\n",
      "[CV] C=10, gamma=0.001, kernel=linear ................................\n",
      "[CV] .... C=10, gamma=0.001, kernel=linear, score=0.943, total=   0.2s\n",
      "[CV] C=10, gamma=0.001, kernel=linear ................................\n",
      "[CV] .... C=10, gamma=0.001, kernel=linear, score=0.959, total=   0.2s\n",
      "[CV] C=10, gamma=0.0001, kernel=rbf ..................................\n",
      "[CV] ...... C=10, gamma=0.0001, kernel=rbf, score=0.915, total=   0.1s\n",
      "[CV] C=10, gamma=0.0001, kernel=rbf ..................................\n",
      "[CV] ...... C=10, gamma=0.0001, kernel=rbf, score=0.917, total=   0.1s\n",
      "[CV] C=10, gamma=0.0001, kernel=rbf ..................................\n",
      "[CV] ...... C=10, gamma=0.0001, kernel=rbf, score=0.922, total=   0.1s\n",
      "[CV] C=10, gamma=0.0001, kernel=rbf ..................................\n",
      "[CV] ...... C=10, gamma=0.0001, kernel=rbf, score=0.919, total=   0.1s\n",
      "[CV] C=10, gamma=0.0001, kernel=rbf ..................................\n",
      "[CV] ...... C=10, gamma=0.0001, kernel=rbf, score=0.916, total=   0.1s\n",
      "[CV] C=10, gamma=0.0001, kernel=linear ...............................\n",
      "[CV] ... C=10, gamma=0.0001, kernel=linear, score=0.950, total=   0.2s\n",
      "[CV] C=10, gamma=0.0001, kernel=linear ...............................\n",
      "[CV] ... C=10, gamma=0.0001, kernel=linear, score=0.958, total=   0.2s\n",
      "[CV] C=10, gamma=0.0001, kernel=linear ...............................\n",
      "[CV] ... C=10, gamma=0.0001, kernel=linear, score=0.955, total=   0.2s\n",
      "[CV] C=10, gamma=0.0001, kernel=linear ...............................\n",
      "[CV] ... C=10, gamma=0.0001, kernel=linear, score=0.943, total=   0.2s\n",
      "[CV] C=10, gamma=0.0001, kernel=linear ...............................\n",
      "[CV] ... C=10, gamma=0.0001, kernel=linear, score=0.959, total=   0.2s\n",
      "[CV] C=100, gamma=1, kernel=rbf ......................................\n",
      "[CV] .......... C=100, gamma=1, kernel=rbf, score=0.936, total=   0.3s\n",
      "[CV] C=100, gamma=1, kernel=rbf ......................................\n",
      "[CV] .......... C=100, gamma=1, kernel=rbf, score=0.931, total=   0.3s\n",
      "[CV] C=100, gamma=1, kernel=rbf ......................................\n",
      "[CV] .......... C=100, gamma=1, kernel=rbf, score=0.927, total=   0.3s\n",
      "[CV] C=100, gamma=1, kernel=rbf ......................................\n",
      "[CV] .......... C=100, gamma=1, kernel=rbf, score=0.943, total=   0.3s\n",
      "[CV] C=100, gamma=1, kernel=rbf ......................................\n",
      "[CV] .......... C=100, gamma=1, kernel=rbf, score=0.932, total=   0.3s\n",
      "[CV] C=100, gamma=1, kernel=linear ...................................\n",
      "[CV] ....... C=100, gamma=1, kernel=linear, score=0.951, total=   1.0s\n",
      "[CV] C=100, gamma=1, kernel=linear ...................................\n",
      "[CV] ....... C=100, gamma=1, kernel=linear, score=0.958, total=   1.4s\n",
      "[CV] C=100, gamma=1, kernel=linear ...................................\n",
      "[CV] ....... C=100, gamma=1, kernel=linear, score=0.955, total=   1.0s\n",
      "[CV] C=100, gamma=1, kernel=linear ...................................\n",
      "[CV] ....... C=100, gamma=1, kernel=linear, score=0.943, total=   1.2s\n",
      "[CV] C=100, gamma=1, kernel=linear ...................................\n",
      "[CV] ....... C=100, gamma=1, kernel=linear, score=0.959, total=   1.4s\n",
      "[CV] C=100, gamma=0.1, kernel=rbf ....................................\n",
      "[CV] ........ C=100, gamma=0.1, kernel=rbf, score=0.974, total=   0.1s\n",
      "[CV] C=100, gamma=0.1, kernel=rbf ....................................\n",
      "[CV] ........ C=100, gamma=0.1, kernel=rbf, score=0.970, total=   0.1s\n",
      "[CV] C=100, gamma=0.1, kernel=rbf ....................................\n",
      "[CV] ........ C=100, gamma=0.1, kernel=rbf, score=0.974, total=   0.1s\n",
      "[CV] C=100, gamma=0.1, kernel=rbf ....................................\n",
      "[CV] ........ C=100, gamma=0.1, kernel=rbf, score=0.975, total=   0.1s\n",
      "[CV] C=100, gamma=0.1, kernel=rbf ....................................\n",
      "[CV] ........ C=100, gamma=0.1, kernel=rbf, score=0.971, total=   0.1s\n",
      "[CV] C=100, gamma=0.1, kernel=linear .................................\n",
      "[CV] ..... C=100, gamma=0.1, kernel=linear, score=0.951, total=   1.0s\n",
      "[CV] C=100, gamma=0.1, kernel=linear .................................\n",
      "[CV] ..... C=100, gamma=0.1, kernel=linear, score=0.958, total=   1.4s\n",
      "[CV] C=100, gamma=0.1, kernel=linear .................................\n",
      "[CV] ..... C=100, gamma=0.1, kernel=linear, score=0.955, total=   1.0s\n",
      "[CV] C=100, gamma=0.1, kernel=linear .................................\n",
      "[CV] ..... C=100, gamma=0.1, kernel=linear, score=0.943, total=   1.2s\n",
      "[CV] C=100, gamma=0.1, kernel=linear .................................\n",
      "[CV] ..... C=100, gamma=0.1, kernel=linear, score=0.959, total=   1.3s\n",
      "[CV] C=100, gamma=0.01, kernel=rbf ...................................\n",
      "[CV] ....... C=100, gamma=0.01, kernel=rbf, score=0.980, total=   0.1s\n",
      "[CV] C=100, gamma=0.01, kernel=rbf ...................................\n",
      "[CV] ....... C=100, gamma=0.01, kernel=rbf, score=0.974, total=   0.1s\n",
      "[CV] C=100, gamma=0.01, kernel=rbf ...................................\n",
      "[CV] ....... C=100, gamma=0.01, kernel=rbf, score=0.973, total=   0.1s\n",
      "[CV] C=100, gamma=0.01, kernel=rbf ...................................\n",
      "[CV] ....... C=100, gamma=0.01, kernel=rbf, score=0.976, total=   0.1s\n",
      "[CV] C=100, gamma=0.01, kernel=rbf ...................................\n",
      "[CV] ....... C=100, gamma=0.01, kernel=rbf, score=0.979, total=   0.1s\n",
      "[CV] C=100, gamma=0.01, kernel=linear ................................\n",
      "[CV] .... C=100, gamma=0.01, kernel=linear, score=0.951, total=   1.0s\n",
      "[CV] C=100, gamma=0.01, kernel=linear ................................\n",
      "[CV] .... C=100, gamma=0.01, kernel=linear, score=0.958, total=   1.4s\n",
      "[CV] C=100, gamma=0.01, kernel=linear ................................\n",
      "[CV] .... C=100, gamma=0.01, kernel=linear, score=0.955, total=   1.0s\n",
      "[CV] C=100, gamma=0.01, kernel=linear ................................\n",
      "[CV] .... C=100, gamma=0.01, kernel=linear, score=0.943, total=   1.2s\n",
      "[CV] C=100, gamma=0.01, kernel=linear ................................\n",
      "[CV] .... C=100, gamma=0.01, kernel=linear, score=0.959, total=   1.3s\n",
      "[CV] C=100, gamma=0.001, kernel=rbf ..................................\n",
      "[CV] ...... C=100, gamma=0.001, kernel=rbf, score=0.958, total=   0.1s\n",
      "[CV] C=100, gamma=0.001, kernel=rbf ..................................\n",
      "[CV] ...... C=100, gamma=0.001, kernel=rbf, score=0.963, total=   0.1s\n",
      "[CV] C=100, gamma=0.001, kernel=rbf ..................................\n",
      "[CV] ...... C=100, gamma=0.001, kernel=rbf, score=0.963, total=   0.1s\n",
      "[CV] C=100, gamma=0.001, kernel=rbf ..................................\n",
      "[CV] ...... C=100, gamma=0.001, kernel=rbf, score=0.950, total=   0.1s\n",
      "[CV] C=100, gamma=0.001, kernel=rbf ..................................\n",
      "[CV] ...... C=100, gamma=0.001, kernel=rbf, score=0.969, total=   0.1s\n",
      "[CV] C=100, gamma=0.001, kernel=linear ...............................\n",
      "[CV] ... C=100, gamma=0.001, kernel=linear, score=0.951, total=   1.1s\n",
      "[CV] C=100, gamma=0.001, kernel=linear ...............................\n",
      "[CV] ... C=100, gamma=0.001, kernel=linear, score=0.958, total=   1.4s\n",
      "[CV] C=100, gamma=0.001, kernel=linear ...............................\n",
      "[CV] ... C=100, gamma=0.001, kernel=linear, score=0.955, total=   1.0s\n",
      "[CV] C=100, gamma=0.001, kernel=linear ...............................\n",
      "[CV] ... C=100, gamma=0.001, kernel=linear, score=0.943, total=   1.2s\n",
      "[CV] C=100, gamma=0.001, kernel=linear ...............................\n",
      "[CV] ... C=100, gamma=0.001, kernel=linear, score=0.959, total=   1.3s\n",
      "[CV] C=100, gamma=0.0001, kernel=rbf .................................\n",
      "[CV] ..... C=100, gamma=0.0001, kernel=rbf, score=0.945, total=   0.1s\n",
      "[CV] C=100, gamma=0.0001, kernel=rbf .................................\n",
      "[CV] ..... C=100, gamma=0.0001, kernel=rbf, score=0.951, total=   0.1s\n",
      "[CV] C=100, gamma=0.0001, kernel=rbf .................................\n",
      "[CV] ..... C=100, gamma=0.0001, kernel=rbf, score=0.949, total=   0.1s\n",
      "[CV] C=100, gamma=0.0001, kernel=rbf .................................\n",
      "[CV] ..... C=100, gamma=0.0001, kernel=rbf, score=0.943, total=   0.1s\n",
      "[CV] C=100, gamma=0.0001, kernel=rbf .................................\n",
      "[CV] ..... C=100, gamma=0.0001, kernel=rbf, score=0.950, total=   0.1s\n",
      "[CV] C=100, gamma=0.0001, kernel=linear ..............................\n",
      "[CV] .. C=100, gamma=0.0001, kernel=linear, score=0.951, total=   1.0s\n",
      "[CV] C=100, gamma=0.0001, kernel=linear ..............................\n",
      "[CV] .. C=100, gamma=0.0001, kernel=linear, score=0.958, total=   1.5s\n",
      "[CV] C=100, gamma=0.0001, kernel=linear ..............................\n",
      "[CV] .. C=100, gamma=0.0001, kernel=linear, score=0.955, total=   1.0s\n",
      "[CV] C=100, gamma=0.0001, kernel=linear ..............................\n",
      "[CV] .. C=100, gamma=0.0001, kernel=linear, score=0.943, total=   1.2s\n",
      "[CV] C=100, gamma=0.0001, kernel=linear ..............................\n",
      "[CV] .. C=100, gamma=0.0001, kernel=linear, score=0.959, total=   1.3s\n",
      "[CV] C=1000, gamma=1, kernel=rbf .....................................\n",
      "[CV] ......... C=1000, gamma=1, kernel=rbf, score=0.936, total=   0.3s\n",
      "[CV] C=1000, gamma=1, kernel=rbf .....................................\n",
      "[CV] ......... C=1000, gamma=1, kernel=rbf, score=0.931, total=   0.3s\n",
      "[CV] C=1000, gamma=1, kernel=rbf .....................................\n",
      "[CV] ......... C=1000, gamma=1, kernel=rbf, score=0.927, total=   0.3s\n",
      "[CV] C=1000, gamma=1, kernel=rbf .....................................\n",
      "[CV] ......... C=1000, gamma=1, kernel=rbf, score=0.943, total=   0.3s\n",
      "[CV] C=1000, gamma=1, kernel=rbf .....................................\n",
      "[CV] ......... C=1000, gamma=1, kernel=rbf, score=0.932, total=   0.3s\n",
      "[CV] C=1000, gamma=1, kernel=linear ..................................\n",
      "[CV] ...... C=1000, gamma=1, kernel=linear, score=0.951, total=   8.9s\n",
      "[CV] C=1000, gamma=1, kernel=linear ..................................\n",
      "[CV] ...... C=1000, gamma=1, kernel=linear, score=0.958, total=   9.3s\n",
      "[CV] C=1000, gamma=1, kernel=linear ..................................\n",
      "[CV] ...... C=1000, gamma=1, kernel=linear, score=0.955, total=   9.6s\n",
      "[CV] C=1000, gamma=1, kernel=linear ..................................\n",
      "[CV] ...... C=1000, gamma=1, kernel=linear, score=0.943, total=  11.4s\n",
      "[CV] C=1000, gamma=1, kernel=linear ..................................\n",
      "[CV] ...... C=1000, gamma=1, kernel=linear, score=0.959, total=   9.6s\n",
      "[CV] C=1000, gamma=0.1, kernel=rbf ...................................\n",
      "[CV] ....... C=1000, gamma=0.1, kernel=rbf, score=0.971, total=   0.1s\n",
      "[CV] C=1000, gamma=0.1, kernel=rbf ...................................\n",
      "[CV] ....... C=1000, gamma=0.1, kernel=rbf, score=0.970, total=   0.1s\n",
      "[CV] C=1000, gamma=0.1, kernel=rbf ...................................\n",
      "[CV] ....... C=1000, gamma=0.1, kernel=rbf, score=0.969, total=   0.1s\n",
      "[CV] C=1000, gamma=0.1, kernel=rbf ...................................\n",
      "[CV] ....... C=1000, gamma=0.1, kernel=rbf, score=0.969, total=   0.1s\n",
      "[CV] C=1000, gamma=0.1, kernel=rbf ...................................\n",
      "[CV] ....... C=1000, gamma=0.1, kernel=rbf, score=0.966, total=   0.1s\n",
      "[CV] C=1000, gamma=0.1, kernel=linear ................................\n",
      "[CV] .... C=1000, gamma=0.1, kernel=linear, score=0.951, total=   8.9s\n",
      "[CV] C=1000, gamma=0.1, kernel=linear ................................\n",
      "[CV] .... C=1000, gamma=0.1, kernel=linear, score=0.958, total=   9.2s\n",
      "[CV] C=1000, gamma=0.1, kernel=linear ................................\n",
      "[CV] .... C=1000, gamma=0.1, kernel=linear, score=0.955, total=   9.5s\n",
      "[CV] C=1000, gamma=0.1, kernel=linear ................................\n",
      "[CV] .... C=1000, gamma=0.1, kernel=linear, score=0.943, total=  11.5s\n",
      "[CV] C=1000, gamma=0.1, kernel=linear ................................\n",
      "[CV] .... C=1000, gamma=0.1, kernel=linear, score=0.959, total=   9.8s\n",
      "[CV] C=1000, gamma=0.01, kernel=rbf ..................................\n",
      "[CV] ...... C=1000, gamma=0.01, kernel=rbf, score=0.984, total=   0.1s\n",
      "[CV] C=1000, gamma=0.01, kernel=rbf ..................................\n",
      "[CV] ...... C=1000, gamma=0.01, kernel=rbf, score=0.976, total=   0.1s\n",
      "[CV] C=1000, gamma=0.01, kernel=rbf ..................................\n",
      "[CV] ...... C=1000, gamma=0.01, kernel=rbf, score=0.970, total=   0.1s\n",
      "[CV] C=1000, gamma=0.01, kernel=rbf ..................................\n",
      "[CV] ...... C=1000, gamma=0.01, kernel=rbf, score=0.981, total=   0.1s\n",
      "[CV] C=1000, gamma=0.01, kernel=rbf ..................................\n",
      "[CV] ...... C=1000, gamma=0.01, kernel=rbf, score=0.979, total=   0.1s\n",
      "[CV] C=1000, gamma=0.01, kernel=linear ...............................\n",
      "[CV] ... C=1000, gamma=0.01, kernel=linear, score=0.951, total=   8.9s\n",
      "[CV] C=1000, gamma=0.01, kernel=linear ...............................\n",
      "[CV] ... C=1000, gamma=0.01, kernel=linear, score=0.958, total=   9.2s\n",
      "[CV] C=1000, gamma=0.01, kernel=linear ...............................\n",
      "[CV] ... C=1000, gamma=0.01, kernel=linear, score=0.955, total=   9.5s\n",
      "[CV] C=1000, gamma=0.01, kernel=linear ...............................\n",
      "[CV] ... C=1000, gamma=0.01, kernel=linear, score=0.943, total=  11.3s\n",
      "[CV] C=1000, gamma=0.01, kernel=linear ...............................\n",
      "[CV] ... C=1000, gamma=0.01, kernel=linear, score=0.959, total=   9.6s\n",
      "[CV] C=1000, gamma=0.001, kernel=rbf .................................\n",
      "[CV] ..... C=1000, gamma=0.001, kernel=rbf, score=0.971, total=   0.1s\n",
      "[CV] C=1000, gamma=0.001, kernel=rbf .................................\n",
      "[CV] ..... C=1000, gamma=0.001, kernel=rbf, score=0.975, total=   0.1s\n",
      "[CV] C=1000, gamma=0.001, kernel=rbf .................................\n",
      "[CV] ..... C=1000, gamma=0.001, kernel=rbf, score=0.968, total=   0.1s\n",
      "[CV] C=1000, gamma=0.001, kernel=rbf .................................\n",
      "[CV] ..... C=1000, gamma=0.001, kernel=rbf, score=0.969, total=   0.1s\n",
      "[CV] C=1000, gamma=0.001, kernel=rbf .................................\n",
      "[CV] ..... C=1000, gamma=0.001, kernel=rbf, score=0.979, total=   0.1s\n",
      "[CV] C=1000, gamma=0.001, kernel=linear ..............................\n",
      "[CV] .. C=1000, gamma=0.001, kernel=linear, score=0.951, total=   8.9s\n",
      "[CV] C=1000, gamma=0.001, kernel=linear ..............................\n",
      "[CV] .. C=1000, gamma=0.001, kernel=linear, score=0.958, total=   9.4s\n",
      "[CV] C=1000, gamma=0.001, kernel=linear ..............................\n",
      "[CV] .. C=1000, gamma=0.001, kernel=linear, score=0.955, total=   9.4s\n",
      "[CV] C=1000, gamma=0.001, kernel=linear ..............................\n",
      "[CV] .. C=1000, gamma=0.001, kernel=linear, score=0.943, total=  11.4s\n",
      "[CV] C=1000, gamma=0.001, kernel=linear ..............................\n",
      "[CV] .. C=1000, gamma=0.001, kernel=linear, score=0.959, total=   9.7s\n",
      "[CV] C=1000, gamma=0.0001, kernel=rbf ................................\n",
      "[CV] .... C=1000, gamma=0.0001, kernel=rbf, score=0.954, total=   0.1s\n",
      "[CV] C=1000, gamma=0.0001, kernel=rbf ................................\n",
      "[CV] .... C=1000, gamma=0.0001, kernel=rbf, score=0.956, total=   0.1s\n",
      "[CV] C=1000, gamma=0.0001, kernel=rbf ................................\n",
      "[CV] .... C=1000, gamma=0.0001, kernel=rbf, score=0.956, total=   0.1s\n",
      "[CV] C=1000, gamma=0.0001, kernel=rbf ................................\n",
      "[CV] .... C=1000, gamma=0.0001, kernel=rbf, score=0.945, total=   0.1s\n",
      "[CV] C=1000, gamma=0.0001, kernel=rbf ................................\n",
      "[CV] .... C=1000, gamma=0.0001, kernel=rbf, score=0.958, total=   0.1s\n",
      "[CV] C=1000, gamma=0.0001, kernel=linear .............................\n",
      "[CV] . C=1000, gamma=0.0001, kernel=linear, score=0.951, total=   8.9s\n",
      "[CV] C=1000, gamma=0.0001, kernel=linear .............................\n",
      "[CV] . C=1000, gamma=0.0001, kernel=linear, score=0.958, total=   9.4s\n",
      "[CV] C=1000, gamma=0.0001, kernel=linear .............................\n",
      "[CV] . C=1000, gamma=0.0001, kernel=linear, score=0.955, total=   9.6s\n",
      "[CV] C=1000, gamma=0.0001, kernel=linear .............................\n",
      "[CV] . C=1000, gamma=0.0001, kernel=linear, score=0.943, total=  11.5s\n",
      "[CV] C=1000, gamma=0.0001, kernel=linear .............................\n",
      "[CV] . C=1000, gamma=0.0001, kernel=linear, score=0.959, total=   9.9s\n"
     ]
    },
    {
     "name": "stderr",
     "output_type": "stream",
     "text": [
      "[Parallel(n_jobs=1)]: Done 250 out of 250 | elapsed:  4.9min finished\n"
     ]
    },
    {
     "data": {
      "text/plain": [
       "GridSearchCV(estimator=SVC(),\n",
       "             param_grid={'C': [0.1, 1, 10, 100, 1000],\n",
       "                         'gamma': [1, 0.1, 0.01, 0.001, 0.0001],\n",
       "                         'kernel': ['rbf', 'linear']},\n",
       "             verbose=3)"
      ]
     },
     "execution_count": 32,
     "metadata": {},
     "output_type": "execute_result"
    }
   ],
   "source": [
    "param_grid = {'C': [0.1, 1, 10, 100, 1000],\n",
    "              'gamma': [1, 0.1, 0.01, 0.001, 0.0001],\n",
    "              'kernel': ['rbf', 'linear']}\n",
    "\n",
    "grid = GridSearchCV(SVC(), param_grid, refit = True, verbose = 3)\n",
    "grid.fit(X_train_scaled, y_train)"
   ]
  },
  {
   "cell_type": "code",
   "execution_count": 33,
   "id": "3826efab",
   "metadata": {
    "execution": {
     "iopub.execute_input": "2022-01-09T16:10:24.554839Z",
     "iopub.status.busy": "2022-01-09T16:10:24.554232Z",
     "iopub.status.idle": "2022-01-09T16:10:24.559283Z",
     "shell.execute_reply": "2022-01-09T16:10:24.558796Z",
     "shell.execute_reply.started": "2022-01-09T15:59:34.230452Z"
    },
    "papermill": {
     "duration": 0.098583,
     "end_time": "2022-01-09T16:10:24.559421",
     "exception": false,
     "start_time": "2022-01-09T16:10:24.460838",
     "status": "completed"
    },
    "tags": []
   },
   "outputs": [
    {
     "name": "stdout",
     "output_type": "stream",
     "text": [
      "{'C': 1000, 'gamma': 0.01, 'kernel': 'rbf'}\n"
     ]
    }
   ],
   "source": [
    "print(grid.best_params_)"
   ]
  },
  {
   "cell_type": "code",
   "execution_count": 34,
   "id": "0f289c26",
   "metadata": {
    "execution": {
     "iopub.execute_input": "2022-01-09T16:10:24.749583Z",
     "iopub.status.busy": "2022-01-09T16:10:24.748796Z",
     "iopub.status.idle": "2022-01-09T16:10:24.751823Z",
     "shell.execute_reply": "2022-01-09T16:10:24.752611Z",
     "shell.execute_reply.started": "2022-01-09T16:00:53.850747Z"
    },
    "papermill": {
     "duration": 0.103373,
     "end_time": "2022-01-09T16:10:24.752936",
     "exception": false,
     "start_time": "2022-01-09T16:10:24.649563",
     "status": "completed"
    },
    "tags": []
   },
   "outputs": [
    {
     "name": "stdout",
     "output_type": "stream",
     "text": [
      "SVC(C=1000, gamma=0.01)\n"
     ]
    }
   ],
   "source": [
    "print(grid.best_estimator_)"
   ]
  },
  {
   "cell_type": "code",
   "execution_count": 35,
   "id": "e5115094",
   "metadata": {
    "execution": {
     "iopub.execute_input": "2022-01-09T16:10:24.940672Z",
     "iopub.status.busy": "2022-01-09T16:10:24.940003Z",
     "iopub.status.idle": "2022-01-09T16:10:24.954068Z",
     "shell.execute_reply": "2022-01-09T16:10:24.952999Z",
     "shell.execute_reply.started": "2022-01-09T16:03:32.872965Z"
    },
    "papermill": {
     "duration": 0.107901,
     "end_time": "2022-01-09T16:10:24.954324",
     "exception": false,
     "start_time": "2022-01-09T16:10:24.846423",
     "status": "completed"
    },
    "tags": []
   },
   "outputs": [
    {
     "name": "stdout",
     "output_type": "stream",
     "text": [
      "Accuracy Score on Training Data for best estimator SVC without gridSearch - 0.987\n"
     ]
    }
   ],
   "source": [
    "grid_predictions = grid.best_estimator_.predict(X_test_scaled)\n",
    "score7 = accuracy_score(y_true=y_test, y_pred=grid_predictions)\n",
    "print(\"Accuracy Score on Training Data for best estimator SVC without gridSearch -\", score7)"
   ]
  }
 ],
 "metadata": {
  "kernelspec": {
   "display_name": "Python 3",
   "language": "python",
   "name": "python3"
  },
  "language_info": {
   "codemirror_mode": {
    "name": "ipython",
    "version": 3
   },
   "file_extension": ".py",
   "mimetype": "text/x-python",
   "name": "python",
   "nbconvert_exporter": "python",
   "pygments_lexer": "ipython3",
   "version": "3.7.12"
  },
  "papermill": {
   "default_parameters": {},
   "duration": 317.25445,
   "end_time": "2022-01-09T16:10:25.758231",
   "environment_variables": {},
   "exception": null,
   "input_path": "__notebook__.ipynb",
   "output_path": "__notebook__.ipynb",
   "parameters": {},
   "start_time": "2022-01-09T16:05:08.503781",
   "version": "2.3.3"
  }
 },
 "nbformat": 4,
 "nbformat_minor": 5
}
